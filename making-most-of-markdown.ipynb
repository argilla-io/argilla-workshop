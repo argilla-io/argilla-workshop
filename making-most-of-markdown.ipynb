{
 "cells": [
  {
   "cell_type": "markdown",
   "metadata": {},
   "source": [
    "# Making the Most of Markdown within Argilla TextFields\n",
    "\n",
    "## Introduction\n",
    "\n",
    "As you may have noticed, Argilla supports Markdown within its text fields. This allows you to add formatting to your text, such as **bold** or *italic* text, or even [links](https://www.google.com). Additionally, this also allows you to add all HTML content, such as images, videos, and even iframes, which is a powerfull tool to have at your disposal.\n",
    "\n",
    "Within this notebook, we will go over the basics of Markdown, and how to use it within Argilla.\n",
    "\n",
    "- multi-modality\n",
    "    - image\n",
    "    - video\n",
    "    - audio\n",
    "- table\n",
    "- exploiting displacy\n",
    "  - ner\n",
    "  - relationships"
   ]
  },
  {
   "cell_type": "markdown",
   "metadata": {},
   "source": [
    "## Installing Dependencies\n",
    "\n",
    "We will be working with builtin Python libraries, as well as the `argilla` library. Additionally, we will use a unstructored document processor with a externally callable public API (to avoid overhead). This tool is called [IBM Deep Search](https://github.com/DS4SD/deepsearch-toolkit) but for a fully open source alternative, I recommend taking a look at [Unstructured](https://unstructured.io). To install the latter, run the following command:"
   ]
  },
  {
   "cell_type": "code",
   "execution_count": null,
   "metadata": {},
   "outputs": [],
   "source": [
    "!pip install argilla==1.17 \n",
    "!pip install datasets\n",
    "!pip install spacy spacy-transformers\n",
    "!pip install Pillow\n",
    "!pip install span_marker\n",
    "!pip install soundfile librosa\n",
    "!pip install deepsearch-toolkit\n",
    "!python -m spacy download en_core_web_sm"
   ]
  },
  {
   "cell_type": "markdown",
   "metadata": {},
   "source": [
    "### Setup Argilla\n",
    "\n",
    "First you will need to deploy an Argilla instance, or just use your own if already deployed. The easiest and most straight forward way to do so is via Hugging Face Spaces at https://huggingface.co/new-space?template=argilla/argilla-template-space, or via Docker Quickstart image (installation notes can be found at https://docs.argilla.io/en/latest/getting_started/installation/deployments/docker.html).\n",
    "\n",
    "```python\n",
    "import argilla as rg\n",
    "rg.init(api_key=\"YOUR_API_KEY\", api_url=\"YOUR_SPACE_ID\")\n",
    "```"
   ]
  },
  {
   "cell_type": "code",
   "execution_count": 209,
   "metadata": {},
   "outputs": [],
   "source": [
    "import argilla as rg\n",
    "import re\n",
    "import pandas as pd\n",
    "import spacy\n",
    "import span_marker\n",
    "from datasets import load_dataset\n",
    "from spacy import displacy\n",
    "import deepsearch\n",
    "import base64\n",
    "from pathlib import Path\n",
    "from datasets import load_dataset\n",
    "from pathlib import Path\n",
    "import glob\n",
    "import json\n",
    "import math\n",
    "from pathlib import Path\n",
    "from subprocess import CalledProcessError, check_call\n",
    "from typing import List, Optional\n",
    "from zipfile import ZipFile"
   ]
  },
  {
   "cell_type": "markdown",
   "metadata": {},
   "source": [
    "## Get Coding\n",
    "\n",
    "### Exploiting `displacy`\n",
    "\n",
    "Displacy is the library from spaCy that allows you to visualize the output of the NLP models. It is a very powerful tool, and we will be using it to visualize the output of the NER model. To do so, we will be using the `displacy.render` function, which takes in the text and the output of the NER model, and returns a HTML string that can be rendered within Argilla.\n",
    "\n",
    "Displacy can render dependencies, named entities, and even relationships. We will be using the first two, but if you want to learn more about displacy, you can check out the [documentation](https://spacy.io/usage/visualizers)."
   ]
  },
  {
   "cell_type": "code",
   "execution_count": 210,
   "metadata": {},
   "outputs": [
    {
     "data": {
      "text/plain": [
       "<span_marker.spacy_integration.SpacySpanMarkerWrapper at 0x2b35a0130>"
      ]
     },
     "execution_count": 210,
     "metadata": {},
     "output_type": "execute_result"
    }
   ],
   "source": [
    "nlp = spacy.load(\n",
    "    \"en_core_web_sm\", \n",
    "    exclude=[\"ner\"]\n",
    ")\n",
    "nlp.add_pipe(\"span_marker\", config={\"model\": \"tomaarsen/span-marker-bert-tiny-fewnerd-coarse-super\"})"
   ]
  },
  {
   "cell_type": "code",
   "execution_count": 211,
   "metadata": {},
   "outputs": [
    {
     "data": {
      "text/html": [
       "<span class=\"tex2jax_ignore\"><svg xmlns=\"http://www.w3.org/2000/svg\" xmlns:xlink=\"http://www.w3.org/1999/xlink\" xml:lang=\"en\" id=\"8832817b282a4f538eb125fdd6e6d739-0\" class=\"displacy\" width=\"1450\" height=\"487.0\" direction=\"ltr\" style=\"max-width: none; height: 487.0px; color: #000000; background: #ffffff; font-family: Arial; direction: ltr\">\n",
       "<text class=\"displacy-token\" fill=\"currentColor\" text-anchor=\"middle\" y=\"397.0\">\n",
       "    <tspan class=\"displacy-word\" fill=\"currentColor\" x=\"50\">Rats</tspan>\n",
       "    <tspan class=\"displacy-tag\" dy=\"2em\" fill=\"currentColor\" x=\"50\">NOUN</tspan>\n",
       "</text>\n",
       "\n",
       "<text class=\"displacy-token\" fill=\"currentColor\" text-anchor=\"middle\" y=\"397.0\">\n",
       "    <tspan class=\"displacy-word\" fill=\"currentColor\" x=\"225\">are</tspan>\n",
       "    <tspan class=\"displacy-tag\" dy=\"2em\" fill=\"currentColor\" x=\"225\">AUX</tspan>\n",
       "</text>\n",
       "\n",
       "<text class=\"displacy-token\" fill=\"currentColor\" text-anchor=\"middle\" y=\"397.0\">\n",
       "    <tspan class=\"displacy-word\" fill=\"currentColor\" x=\"400\">various</tspan>\n",
       "    <tspan class=\"displacy-tag\" dy=\"2em\" fill=\"currentColor\" x=\"400\">ADJ</tspan>\n",
       "</text>\n",
       "\n",
       "<text class=\"displacy-token\" fill=\"currentColor\" text-anchor=\"middle\" y=\"397.0\">\n",
       "    <tspan class=\"displacy-word\" fill=\"currentColor\" x=\"575\">medium-</tspan>\n",
       "    <tspan class=\"displacy-tag\" dy=\"2em\" fill=\"currentColor\" x=\"575\">ADJ</tspan>\n",
       "</text>\n",
       "\n",
       "<text class=\"displacy-token\" fill=\"currentColor\" text-anchor=\"middle\" y=\"397.0\">\n",
       "    <tspan class=\"displacy-word\" fill=\"currentColor\" x=\"750\">sized,</tspan>\n",
       "    <tspan class=\"displacy-tag\" dy=\"2em\" fill=\"currentColor\" x=\"750\">ADJ</tspan>\n",
       "</text>\n",
       "\n",
       "<text class=\"displacy-token\" fill=\"currentColor\" text-anchor=\"middle\" y=\"397.0\">\n",
       "    <tspan class=\"displacy-word\" fill=\"currentColor\" x=\"925\">long-</tspan>\n",
       "    <tspan class=\"displacy-tag\" dy=\"2em\" fill=\"currentColor\" x=\"925\">ADV</tspan>\n",
       "</text>\n",
       "\n",
       "<text class=\"displacy-token\" fill=\"currentColor\" text-anchor=\"middle\" y=\"397.0\">\n",
       "    <tspan class=\"displacy-word\" fill=\"currentColor\" x=\"1100\">tailed</tspan>\n",
       "    <tspan class=\"displacy-tag\" dy=\"2em\" fill=\"currentColor\" x=\"1100\">VERB</tspan>\n",
       "</text>\n",
       "\n",
       "<text class=\"displacy-token\" fill=\"currentColor\" text-anchor=\"middle\" y=\"397.0\">\n",
       "    <tspan class=\"displacy-word\" fill=\"currentColor\" x=\"1275\">rodents.</tspan>\n",
       "    <tspan class=\"displacy-tag\" dy=\"2em\" fill=\"currentColor\" x=\"1275\">NOUN</tspan>\n",
       "</text>\n",
       "\n",
       "<g class=\"displacy-arrow\">\n",
       "    <path class=\"displacy-arc\" id=\"arrow-8832817b282a4f538eb125fdd6e6d739-0-0\" stroke-width=\"2px\" d=\"M70,352.0 C70,264.5 210.0,264.5 210.0,352.0\" fill=\"none\" stroke=\"currentColor\"/>\n",
       "    <text dy=\"1.25em\" style=\"font-size: 0.8em; letter-spacing: 1px\">\n",
       "        <textPath xlink:href=\"#arrow-8832817b282a4f538eb125fdd6e6d739-0-0\" class=\"displacy-label\" startOffset=\"50%\" side=\"left\" fill=\"currentColor\" text-anchor=\"middle\">nsubj</textPath>\n",
       "    </text>\n",
       "    <path class=\"displacy-arrowhead\" d=\"M70,354.0 L62,342.0 78,342.0\" fill=\"currentColor\"/>\n",
       "</g>\n",
       "\n",
       "<g class=\"displacy-arrow\">\n",
       "    <path class=\"displacy-arc\" id=\"arrow-8832817b282a4f538eb125fdd6e6d739-0-1\" stroke-width=\"2px\" d=\"M420,352.0 C420,89.5 1270.0,89.5 1270.0,352.0\" fill=\"none\" stroke=\"currentColor\"/>\n",
       "    <text dy=\"1.25em\" style=\"font-size: 0.8em; letter-spacing: 1px\">\n",
       "        <textPath xlink:href=\"#arrow-8832817b282a4f538eb125fdd6e6d739-0-1\" class=\"displacy-label\" startOffset=\"50%\" side=\"left\" fill=\"currentColor\" text-anchor=\"middle\">amod</textPath>\n",
       "    </text>\n",
       "    <path class=\"displacy-arrowhead\" d=\"M420,354.0 L412,342.0 428,342.0\" fill=\"currentColor\"/>\n",
       "</g>\n",
       "\n",
       "<g class=\"displacy-arrow\">\n",
       "    <path class=\"displacy-arc\" id=\"arrow-8832817b282a4f538eb125fdd6e6d739-0-2\" stroke-width=\"2px\" d=\"M595,352.0 C595,264.5 735.0,264.5 735.0,352.0\" fill=\"none\" stroke=\"currentColor\"/>\n",
       "    <text dy=\"1.25em\" style=\"font-size: 0.8em; letter-spacing: 1px\">\n",
       "        <textPath xlink:href=\"#arrow-8832817b282a4f538eb125fdd6e6d739-0-2\" class=\"displacy-label\" startOffset=\"50%\" side=\"left\" fill=\"currentColor\" text-anchor=\"middle\">advmod</textPath>\n",
       "    </text>\n",
       "    <path class=\"displacy-arrowhead\" d=\"M595,354.0 L587,342.0 603,342.0\" fill=\"currentColor\"/>\n",
       "</g>\n",
       "\n",
       "<g class=\"displacy-arrow\">\n",
       "    <path class=\"displacy-arc\" id=\"arrow-8832817b282a4f538eb125fdd6e6d739-0-3\" stroke-width=\"2px\" d=\"M770,352.0 C770,177.0 1265.0,177.0 1265.0,352.0\" fill=\"none\" stroke=\"currentColor\"/>\n",
       "    <text dy=\"1.25em\" style=\"font-size: 0.8em; letter-spacing: 1px\">\n",
       "        <textPath xlink:href=\"#arrow-8832817b282a4f538eb125fdd6e6d739-0-3\" class=\"displacy-label\" startOffset=\"50%\" side=\"left\" fill=\"currentColor\" text-anchor=\"middle\">amod</textPath>\n",
       "    </text>\n",
       "    <path class=\"displacy-arrowhead\" d=\"M770,354.0 L762,342.0 778,342.0\" fill=\"currentColor\"/>\n",
       "</g>\n",
       "\n",
       "<g class=\"displacy-arrow\">\n",
       "    <path class=\"displacy-arc\" id=\"arrow-8832817b282a4f538eb125fdd6e6d739-0-4\" stroke-width=\"2px\" d=\"M945,352.0 C945,264.5 1085.0,264.5 1085.0,352.0\" fill=\"none\" stroke=\"currentColor\"/>\n",
       "    <text dy=\"1.25em\" style=\"font-size: 0.8em; letter-spacing: 1px\">\n",
       "        <textPath xlink:href=\"#arrow-8832817b282a4f538eb125fdd6e6d739-0-4\" class=\"displacy-label\" startOffset=\"50%\" side=\"left\" fill=\"currentColor\" text-anchor=\"middle\">advmod</textPath>\n",
       "    </text>\n",
       "    <path class=\"displacy-arrowhead\" d=\"M945,354.0 L937,342.0 953,342.0\" fill=\"currentColor\"/>\n",
       "</g>\n",
       "\n",
       "<g class=\"displacy-arrow\">\n",
       "    <path class=\"displacy-arc\" id=\"arrow-8832817b282a4f538eb125fdd6e6d739-0-5\" stroke-width=\"2px\" d=\"M1120,352.0 C1120,264.5 1260.0,264.5 1260.0,352.0\" fill=\"none\" stroke=\"currentColor\"/>\n",
       "    <text dy=\"1.25em\" style=\"font-size: 0.8em; letter-spacing: 1px\">\n",
       "        <textPath xlink:href=\"#arrow-8832817b282a4f538eb125fdd6e6d739-0-5\" class=\"displacy-label\" startOffset=\"50%\" side=\"left\" fill=\"currentColor\" text-anchor=\"middle\">amod</textPath>\n",
       "    </text>\n",
       "    <path class=\"displacy-arrowhead\" d=\"M1120,354.0 L1112,342.0 1128,342.0\" fill=\"currentColor\"/>\n",
       "</g>\n",
       "\n",
       "<g class=\"displacy-arrow\">\n",
       "    <path class=\"displacy-arc\" id=\"arrow-8832817b282a4f538eb125fdd6e6d739-0-6\" stroke-width=\"2px\" d=\"M245,352.0 C245,2.0 1275.0,2.0 1275.0,352.0\" fill=\"none\" stroke=\"currentColor\"/>\n",
       "    <text dy=\"1.25em\" style=\"font-size: 0.8em; letter-spacing: 1px\">\n",
       "        <textPath xlink:href=\"#arrow-8832817b282a4f538eb125fdd6e6d739-0-6\" class=\"displacy-label\" startOffset=\"50%\" side=\"left\" fill=\"currentColor\" text-anchor=\"middle\">attr</textPath>\n",
       "    </text>\n",
       "    <path class=\"displacy-arrowhead\" d=\"M1275.0,354.0 L1283.0,342.0 1267.0,342.0\" fill=\"currentColor\"/>\n",
       "</g>\n",
       "</svg></span>"
      ],
      "text/plain": [
       "<IPython.core.display.HTML object>"
      ]
     },
     "metadata": {},
     "output_type": "display_data"
    }
   ],
   "source": [
    "doc = nlp(\"Rats are various medium-sized, long-tailed rodents.\")\n",
    "x = displacy.render(doc, style=\"dep\")"
   ]
  },
  {
   "cell_type": "code",
   "execution_count": 212,
   "metadata": {},
   "outputs": [
    {
     "data": {
      "text/html": [
       "<span class=\"tex2jax_ignore\"><div class=\"entities\" style=\"line-height: 2.5; direction: ltr\">When \n",
       "<mark class=\"entity\" style=\"background: #aa9cfc; padding: 0.45em 0.6em; margin: 0 0.25em; line-height: 1; border-radius: 0.35em;\">\n",
       "    Sebastian Thrun\n",
       "    <span style=\"font-size: 0.8em; font-weight: bold; line-height: 1; border-radius: 0.35em; vertical-align: middle; margin-left: 0.5rem\">person</span>\n",
       "</mark>\n",
       " started working on self-driving cars at \n",
       "<mark class=\"entity\" style=\"background: #ddd; padding: 0.45em 0.6em; margin: 0 0.25em; line-height: 1; border-radius: 0.35em;\">\n",
       "    Google\n",
       "    <span style=\"font-size: 0.8em; font-weight: bold; line-height: 1; border-radius: 0.35em; vertical-align: middle; margin-left: 0.5rem\">organization</span>\n",
       "</mark>\n",
       " in 2007, few people outside of the company took him seriously.</div></span>"
      ],
      "text/plain": [
       "<IPython.core.display.HTML object>"
      ]
     },
     "metadata": {},
     "output_type": "display_data"
    }
   ],
   "source": [
    "text = \"When Sebastian Thrun started working on self-driving cars at Google in 2007, few people outside of the company took him seriously.\"\n",
    "doc2 = nlp(text)\n",
    "displacy.render(doc2, style=\"ent\")"
   ]
  },
  {
   "cell_type": "markdown",
   "metadata": {},
   "source": [
    "We can now create an Argilla `FeedbackDataset` and add the displacy output to it. We will be using the `FeedbackDataset` to render the displacy output. We will now configure it to show the default text, dependencies and entities. Additionally, we add some label questions to indicate whether the text is relevant, and the dependency parsing and named entities are correct. Also, we will be adding questions to assess whether the user want to apply a correction to the dependencies and/or entities."
   ]
  },
  {
   "cell_type": "code",
   "execution_count": 213,
   "metadata": {},
   "outputs": [],
   "source": [
    "try:\n",
    "    ds = rg.FeedbackDataset(\n",
    "        fields=[\n",
    "            rg.TextField(name=\"text\", use_markdown=True),\n",
    "            rg.TextField(name=\"dep\", use_markdown=True),\n",
    "            rg.TextField(name=\"ent\", use_markdown=True)\n",
    "        ],\n",
    "        questions=[\n",
    "            rg.LabelQuestion(name=\"relevant\", labels=[\"yes\", \"no\"]),\n",
    "            rg.MultiLabelQuestion(name=\"question-multi\", labels=[\"flag-pos\", \"flag-ner\"]),\n",
    "            rg.TextQuestion(name=\"dep-correction\", use_markdown=True),\n",
    "            rg.TextQuestion(name=\"ner-correction\", use_markdown=True)\n",
    "        ]\n",
    "    )\n",
    "    ds = ds.push_to_argilla(\"exploiting-displacy\")\n",
    "except Exception as e:\n",
    "    ds = rg.FeedbackDataset.from_argilla(\"exploiting-displacy\")"
   ]
  },
  {
   "cell_type": "markdown",
   "metadata": {},
   "source": [
    "Now, we will load the basic [few-nerd dataset from Hugging Face](https://huggingface.co/datasets/DFKI-SLT/few-nerd). This dataset contains a few sentences, and the output of the NER model. We will be using this dataset to show how to use displacy within Argilla."
   ]
  },
  {
   "cell_type": "code",
   "execution_count": 214,
   "metadata": {},
   "outputs": [],
   "source": [
    "dataset_fewnerd = load_dataset(\"DFKI-SLT/few-nerd\", \"supervised\", split=\"train[:10]\")"
   ]
  },
  {
   "cell_type": "markdown",
   "metadata": {},
   "source": [
    "Next, we will use this dataset to populate our Argilla `FeedbackDataset`. We will be using the `displacy.render` function to render the displacy output as html, and add it to the `FeedbackDataset`. We will also add the text, and the output of the NER model to the `FeedbackDataset`. Finally, we will also add markdown formatted tables to support basic support for NER and dependency annotation."
   ]
  },
  {
   "cell_type": "code",
   "execution_count": 215,
   "metadata": {},
   "outputs": [
    {
     "name": "stderr",
     "output_type": "stream",
     "text": [
      "Pushing records to Argilla...: 100%|██████████| 1/1 [00:00<00:00, 10.74it/s]\n"
     ]
    }
   ],
   "source": [
    "texts = [\" \".join(x[\"tokens\"]) for x in dataset_fewnerd]\n",
    "docs = nlp.pipe(texts)\n",
    "\n",
    "def wrap_in_max_width(html):\n",
    "    html = html.replace(\"max-width: none;\", \"\")\n",
    "    # remove existing width and height setting based on regex width=\"/d\"\n",
    "    html = re.sub(r\"width=\\\"\\d+\\\"\", \"overflow-x: auto;\", html)\n",
    "    html = re.sub(r\"height=\\\"\\d+\\\"\", \"\", html)\n",
    "    \n",
    "    # Find the SVG element in the HTML output\n",
    "    svg_start = html.find(\"<svg\")\n",
    "    svg_end = html.find(\"</svg>\") + len(\"</svg>\")\n",
    "    svg = html[svg_start:svg_end]\n",
    "\n",
    "    # Set the width and height attributes of the SVG element to 100%\n",
    "    svg = svg.replace(\"<svg\", \"<svg width='100%' height='100%'\")\n",
    "\n",
    "    # Wrap the SVG element in a div with max-width and horizontal scrolling\n",
    "    return f\"<div style='max-width: 100%; overflow-x: auto;'>{svg}</div>\"\n",
    "\n",
    "records = []\n",
    "for doc in docs:\n",
    "    record = rg.FeedbackRecord(\n",
    "        fields={\n",
    "            \"text\": doc.text, \n",
    "            \"dep\": wrap_in_max_width(displacy.render(doc, style=\"dep\", jupyter=False)), \n",
    "            \"ent\": displacy.render(doc, style=\"ent\", jupyter=False)\n",
    "        },\n",
    "        suggestions=[{\n",
    "                \"question_name\": \"dep-correction\", \n",
    "                \"value\": pd.DataFrame([{\"Label\": token.dep_, \"Text\": token.text} for token in doc]).to_markdown(index=False)\n",
    "\n",
    "            },\n",
    "            {\n",
    "                \"question_name\": \"ner-correction\", \n",
    "                \"value\": pd.DataFrame([{\"Label\": ent.label_, \"Text\": ent.text} for ent in doc.ents]).to_markdown(index=False),\n",
    "            }\n",
    "        ]\n",
    "    )\n",
    "    records.append(record)\n",
    "ds.add_records(records)"
   ]
  },
  {
   "cell_type": "markdown",
   "metadata": {},
   "source": [
    "### Multi-Modality: audio, image and video\n",
    "\n",
    "Yes, Argilla can work with images, video and audio, when formatted as HTML and used within a markdown field. However, besides using publicly available sources to do this, we can also us something called DataURLs. \n",
    "\n",
    "#### What are DataURLs?\n",
    "\n",
    "A DataURL is a way to encode binary data into a string, which can then be used to embed the data into a webpage. This is a very useful tool, as it allows us to embed images, videos, and audio files directly into html, without having to worry about hosting them externally. This is done by prepending the data with a header, which specifies the type of data being encoded, and the encoding used. We will define three different functions, one for each modality, which will take a file path as input, and return a DataURL as output."
   ]
  },
  {
   "cell_type": "code",
   "execution_count": 216,
   "metadata": {},
   "outputs": [],
   "source": [
    "def get_file_type(path):\n",
    "    return Path(path).suffix[1:]\n",
    "\n",
    "def video_to_dataurl(path, file_type: str = None):\n",
    "    # Open the video file and read its contents\n",
    "    with open(path, 'rb') as f:\n",
    "        video_data = f.read()\n",
    "\n",
    "    # Encode the video data as base64\n",
    "    video_base64 = base64.b64encode(video_data).decode('utf-8')\n",
    "\n",
    "    # Get the file type (e.g. mp4)\n",
    "    file_type = file_type or get_file_type(path)\n",
    "    \n",
    "    # Prepend the Data URL prefix to the base64-encoded data\n",
    "    data_url = f'data:video/{file_type};base64,' + video_base64\n",
    "\n",
    "    # Create HTML\n",
    "    html = f\"<video controls><source src='{data_url}' type='video/{file_type}'></video>\"\n",
    "    return html\n",
    "    \n",
    "def audio_to_dataurl(path, file_type: str = None):\n",
    "    # Open the audio file and read its contents\n",
    "    with open(path, 'rb') as f:\n",
    "        audio_data = f.read()\n",
    "    \n",
    "    # Encode the audio data as base64\n",
    "    audio_base64 = base64.b64encode(audio_data).decode('utf-8')\n",
    "    \n",
    "    # Get the file type (e.g. mp3)\n",
    "    file_type = file_type or get_file_type(path)\n",
    "    \n",
    "    # Prepend the Data URL prefix to the base64-encoded data\n",
    "    data_url = f'data:audio/{file_type};base64,' + audio_base64\n",
    "    \n",
    "    # Create HTML\n",
    "    html = f\"<audio controls autoplay><source src='{data_url}' type='audio/{file_type}'></audio>\"\n",
    "    return html\n",
    "\n",
    "def image_to_dataurl(path, file_type: str = None):\n",
    "    # open the image file and read its contents\n",
    "    with open(path, 'rb') as f:\n",
    "        image_data = f.read()\n",
    "        \n",
    "    # Encode the image data as base64\n",
    "    image_base64 = base64.b64encode(image_data).decode('utf-8')\n",
    "    \n",
    "    # Get the file type (e.g. png)\n",
    "    file_type = file_type or get_file_type(path)\n",
    "    \n",
    "    # Prepend the Data URL prefix to the base64-encoded data\n",
    "    data_url = f'data:image/{file_type};base64,' + image_base64\n",
    "    \n",
    "    # Create HTML\n",
    "    html = f'<img src=\"{data_url}\">'\n",
    "    return html"
   ]
  },
  {
   "cell_type": "markdown",
   "metadata": {},
   "source": [
    "Next, we will define our `FeedbackDataset` and add the DataURLs to it. We will also add a question to ask the user to describe the image, video, or audio file."
   ]
  },
  {
   "cell_type": "code",
   "execution_count": 217,
   "metadata": {},
   "outputs": [],
   "source": [
    "try:\n",
    "    ds = rg.FeedbackDataset(\n",
    "        fields=[rg.TextField(name=\"content\", use_markdown=True)],\n",
    "        questions=[rg.TextQuestion(name=\"describe\")],\n",
    "    )\n",
    "    ds = ds.push_to_argilla(\"multi-modal\")\n",
    "    \n",
    "except:\n",
    "    ds = rg.FeedbackDataset.from_argilla(\"multi-modal\")\n"
   ]
  },
  {
   "cell_type": "markdown",
   "metadata": {},
   "source": [
    "We will add the DataURLs to the `add_records`-method. We will also add a question to ask the user to describe the image, video, or audio file."
   ]
  },
  {
   "cell_type": "code",
   "execution_count": 218,
   "metadata": {},
   "outputs": [
    {
     "name": "stderr",
     "output_type": "stream",
     "text": [
      "Pushing records to Argilla...: 100%|██████████| 1/1 [00:00<00:00,  2.56it/s]\n"
     ]
    }
   ],
   "source": [
    "\n",
    "records = [\n",
    "    rg.FeedbackRecord(fields={\"content\": audio_to_dataurl(\"data/making-most-of-markdown/heath_ledger.mp3\")}),\n",
    "    rg.FeedbackRecord(fields={\"content\": audio_to_dataurl(\"data/making-most-of-markdown/heath_ledger_2.mp3\")}),\n",
    "    rg.FeedbackRecord(fields={\"content\": image_to_dataurl(\"data/making-most-of-markdown/deepsearch.png\")}),\n",
    "    rg.FeedbackRecord(fields={\"content\": video_to_dataurl(\"data/making-most-of-markdown/snapshot.mp4\")})\n",
    "]\n",
    "ds.add_records(records)"
   ]
  },
  {
   "cell_type": "markdown",
   "metadata": {},
   "source": [
    "#### Let's create `FeedbackDataset`s\n",
    "\n",
    "##### Audio Classification\n",
    "\n",
    "For this example audio classification dataset, we will be using the [ccmusic-database/bel_folk](https://huggingface.co/datasets/ccmusic-database/bel_folk) dataset from Hugging Face. This dataset contains 1 minute audio clips of Chinese folk music, and the genre of the music. We will be using this dataset to create a dataset for audio classification."
   ]
  },
  {
   "cell_type": "code",
   "execution_count": 219,
   "metadata": {},
   "outputs": [
    {
     "data": {
      "text/plain": [
       "({'audio': {'path': '/Users/davidberenstein/.cache/huggingface/datasets/downloads/extracted/16960b86c4c6c0594ad82b11290ee5a7bb8f111068e9c6032444a2005fe715ad/dataset/audio/Bel_f (19).wav',\n",
       "   'array': array([0., 0., 0., ..., 0., 0., 0.]),\n",
       "   'sampling_rate': 44100},\n",
       "  'image': <PIL.JpegImagePlugin.JpegImageFile image mode=RGB size=476x349>,\n",
       "  'label': 1,\n",
       "  'gender': 0,\n",
       "  'singing_method': 1},\n",
       " {'audio': Audio(sampling_rate=44100, mono=True, decode=True, id=None),\n",
       "  'image': Image(decode=True, id=None),\n",
       "  'label': ClassLabel(names=['m_bel', 'f_bel', 'm_folk', 'f_folk'], id=None),\n",
       "  'gender': ClassLabel(names=['female', 'male'], id=None),\n",
       "  'singing_method': ClassLabel(names=['Folk Singing', 'Bel Canto'], id=None)})"
      ]
     },
     "execution_count": 219,
     "metadata": {},
     "output_type": "execute_result"
    }
   ],
   "source": [
    "my_audio_dataset = load_dataset(\"ccmusic-database/bel_folk\")\n",
    "my_audio_dataset = my_audio_dataset.shuffle()\n",
    "my_audio_dataset[\"train\"][0], my_audio_dataset[\"train\"].features"
   ]
  },
  {
   "cell_type": "markdown",
   "metadata": {},
   "source": [
    "We will now define `label`, `gender`, `singing_method` columns as `LabelQeustion` columns and infer the label sets from the `Datasets.features` attribute. "
   ]
  },
  {
   "cell_type": "code",
   "execution_count": 220,
   "metadata": {},
   "outputs": [
    {
     "data": {
      "text/plain": [
       "RemoteFeedbackDataset(\n",
       "   id=8005e3b0-c932-462a-8f49-d0acb0044e2e\n",
       "   name=audio\n",
       "   workspace=Workspace(id=268dbd87-2970-46cd-a84a-e3785b7178b7, name=argilla, inserted_at=2023-08-14 13:02:15, updated_at=2023-08-14 13:02:15)\n",
       "   url=http://localhost:6900/dataset/8005e3b0-c932-462a-8f49-d0acb0044e2e/annotation-mode\n",
       "   fields=[RemoteTextField(id=UUID('16121a5f-a9b3-4a59-92cb-eebdbcbeb957'), client=None, name='audio', title='Audio', required=True, type='text', use_markdown=True)]\n",
       "   questions=[RemoteLabelQuestion(id=UUID('cf389c89-cf1e-416a-b7da-5f59838cf1d3'), client=None, name='general', title='General', description=None, required=True, type='label_selection', labels=['m_bel', 'f_bel', 'm_folk', 'f_folk'], visible_labels=None), RemoteLabelQuestion(id=UUID('08edc7e7-b8c2-41b3-8526-b9ae04fa15f5'), client=None, name='gender', title='Gender', description=None, required=True, type='label_selection', labels=['female', 'male'], visible_labels=None), RemoteLabelQuestion(id=UUID('54e321b7-7a6c-4df7-8c35-29aac6aa3dfe'), client=None, name='singing_method', title='Singing_method', description=None, required=True, type='label_selection', labels=['Folk Singing', 'Bel Canto'], visible_labels=None)]\n",
       "   guidelines=None)"
      ]
     },
     "execution_count": 220,
     "metadata": {},
     "output_type": "execute_result"
    }
   ],
   "source": [
    "label_general = my_audio_dataset[\"train\"].features[\"label\"].names\n",
    "label_gender = my_audio_dataset[\"train\"].features[\"gender\"].names\n",
    "label_singing_method = my_audio_dataset[\"train\"].features[\"singing_method\"].names\n",
    "rg_ds_audio = rg.FeedbackDataset(\n",
    "    fields=[rg.TextField(name=\"audio\", use_markdown=True)],\n",
    "    questions=[\n",
    "        rg.LabelQuestion(name=\"general\", labels=label_general),\n",
    "        rg.LabelQuestion(name=\"gender\", labels=label_gender),\n",
    "        rg.LabelQuestion(name=\"singing_method\", labels=label_singing_method)\n",
    "    ]\n",
    ")\n",
    "try:\n",
    "    rg_ds_audio = rg.FeedbackDataset.from_argilla(\"audio\")\n",
    "except:\n",
    "    rg_ds_audio = rg_ds_audio.push_to_argilla(\"audio\")\n",
    "rg_ds_audio"
   ]
  },
  {
   "cell_type": "markdown",
   "metadata": {},
   "source": [
    "Next, we will define our `FeedbackDataset` and add the DataURLs to it by using the b64encode function `audio_to_dataurl`. Also, we will be adding dataset suggestions for each one of the label columns."
   ]
  },
  {
   "cell_type": "code",
   "execution_count": 221,
   "metadata": {},
   "outputs": [
    {
     "name": "stdout",
     "output_type": "stream",
     "text": [
      "Argilla server returned an error with http status: 500\n",
      "Error details: [{'code': 'argilla.api.errors::GenericServerError', 'params': {'type': 'opensearchpy.exceptions.TransportError', 'message': 'TransportError(429, \\'{\"error\":{\"root_cause\":[{\"type\":\"es_rejected_execution_exception\",\"reason\":\"rejected execution of coordinating operation [coordinating_and_primary_bytes=0, replica_bytes=0, all_bytes=0, coordinating_operation_bytes=58731109, max_coordinating_and_primary_bytes=53687091]\"}],\"type\":\"es_rejected_execution_exception\",\"reason\":\"rejected execution of coordinating operation [coordinating_and_primary_bytes=0, replica_bytes=0, all_bytes=0, coordinating_operation_bytes=58731109, max_coordinating_and_primary_bytes=53687091]\"},\"status\":429}\\')'}}]\n"
     ]
    }
   ],
   "source": [
    "records = []\n",
    "my_audio_dataset_slice = my_audio_dataset[\"train\"].select(range(20))\n",
    "for entry in my_audio_dataset_slice:\n",
    "    record = rg.FeedbackRecord(\n",
    "        fields={\"audio\": audio_to_dataurl(entry[\"audio\"][\"path\"])},\n",
    "        suggestions=[\n",
    "            {\"question_name\": \"general\", \"value\": label_general[entry[\"label\"]]},\n",
    "            {\"question_name\": \"gender\", \"value\": label_gender[entry[\"gender\"]]},\n",
    "            {\"question_name\": \"singing_method\", \"value\": label_singing_method[entry[\"singing_method\"]]}\n",
    "        ]\n",
    "    )\n",
    "    try:\n",
    "        rg_ds_audio.add_records(record, show_progress=False)\n",
    "    except Exception as e:\n",
    "        print(e)\n",
    "        pass"
   ]
  },
  {
   "cell_type": "markdown",
   "metadata": {},
   "source": [
    "##### Image Classification \n",
    "\n",
    "Within this example, we will be using the [zishuod/pokemon-icons](https://huggingface.co/datasets/\"zishuod/pokemon-icons\") dataset from Hugging Face. This dataset contains images of Pokemon that need to be classified. We will be using this dataset to create a dataset for image classification but feel free to use any other image classification dataset listed below.\n",
    "\n",
    "Some examples are:\n",
    "- \"zishuod/pokemon-icons\"\n",
    "- \"keremberke/shoe-classification\"\n",
    "- \"sampath017/plants\"\n",
    "- \"sin3142/memes-500\"\n",
    "- \"adamkatav/mtg_subsample\"\n",
    "- \"sxdave/emotion_detection\""
   ]
  },
  {
   "cell_type": "code",
   "execution_count": 222,
   "metadata": {},
   "outputs": [
    {
     "data": {
      "application/vnd.jupyter.widget-view+json": {
       "model_id": "8e278615b2b141f1b33def3bcdf53cb8",
       "version_major": 2,
       "version_minor": 0
      },
      "text/plain": [
       "Resolving data files:   0%|          | 0/427 [00:00<?, ?it/s]"
      ]
     },
     "metadata": {},
     "output_type": "display_data"
    },
    {
     "data": {
      "application/vnd.jupyter.widget-view+json": {
       "model_id": "6476180f57e04364b3cd97f031aff530",
       "version_major": 2,
       "version_minor": 0
      },
      "text/plain": [
       "Resolving data files:   0%|          | 0/165 [00:00<?, ?it/s]"
      ]
     },
     "metadata": {},
     "output_type": "display_data"
    },
    {
     "data": {
      "text/plain": [
       "({'image': <PIL.PngImagePlugin.PngImageFile image mode=RGB size=72x72>,\n",
       "  'label': 11},\n",
       " {'image': Image(decode=True, id=None),\n",
       "  'label': ClassLabel(names=['aegislash', 'amoonguss', 'arcanine', 'azumarill', 'blastoise', 'blaziken', 'blissey', 'calyrex', 'celesteela', 'centiskorch', 'chansey', 'charizard', 'cinderace', 'clefable', 'clefairy', 'coalossal', 'comfey', 'cresselia', 'darmanitan', 'dialga', 'diggersby', 'dracovish', 'dracozolt', 'dragapult', 'drifblim', 'durant', 'dusclops', 'eternatus', 'excadrill', 'ferrothorn', 'garchomp', 'gastrodon', 'gigalith', 'glastrier', 'gothitelle', 'grimmsnarl', 'groudon', 'gyarados', 'heatran', 'hippowdon', 'hooh', 'hydreigon', 'incineroar', 'indeedee', 'kartana', 'kyogre', 'landorus', 'lapras', 'ludicolo', 'mamoswine', 'metagross', 'mewtwo', 'mienshao', 'milotic', 'mimikyu', 'moltres', 'necrozma', 'nihilego', 'ninetales', 'pheromosa', 'pikachu', 'porygon2', 'primarina', 'quagsire', 'raichu', 'raikou', 'regieleki', 'regigigas', 'registeel', 'rhyperior', 'rillaboom', 'rotom', 'sableye', 'scrafty', 'shedinja', 'skarmory', 'solgaleo', 'spectrier', 'stakataka', 'stoutland', 'sylveon', 'talonflame', 'tapufini', 'tapulele', 'thundurus', 'togedemaru', 'togekiss', 'torkoal', 'tornadus', 'toxapex', 'tyranitar', 'umbreon', 'urshifu', 'venusaur', 'weezing', 'whimsicott', 'xerneas', 'yveltal', 'zacian', 'zapdos', 'zekrom', 'zygarde'], id=None)})"
      ]
     },
     "execution_count": 222,
     "metadata": {},
     "output_type": "execute_result"
    }
   ],
   "source": [
    "my_image_dataset  = load_dataset(\"zishuod/pokemon-icons\")\n",
    "my_image_dataset = my_image_dataset.shuffle()\n",
    "my_image_dataset[\"train\"][0], my_image_dataset[\"train\"].features"
   ]
  },
  {
   "cell_type": "markdown",
   "metadata": {},
   "source": [
    "We will now define `label` column as `LabelQeustion` columns and infer the label sets from the `Datasets.features` attribute. Also, we will use a basic `TextField` to add the image to the `FeedbackDataset`."
   ]
  },
  {
   "cell_type": "code",
   "execution_count": 223,
   "metadata": {},
   "outputs": [
    {
     "name": "stderr",
     "output_type": "stream",
     "text": [
      "/Users/davidberenstein/Documents/programming/argilla/argilla-workshop/.venv/lib/python3.10/site-packages/argilla/client/feedback/schemas/questions.py:170: UserWarning: Since `visible_labels` has not been provided and the total number of labels is greater than 20, `visible_labels` will be set to `20`.\n",
      "  warnings.warn(\n"
     ]
    },
    {
     "data": {
      "text/plain": [
       "RemoteFeedbackDataset(\n",
       "   id=c29c5a97-eb64-49d9-a57e-ec0a5f6e6038\n",
       "   name=image\n",
       "   workspace=Workspace(id=268dbd87-2970-46cd-a84a-e3785b7178b7, name=argilla, inserted_at=2023-08-14 13:02:15, updated_at=2023-08-14 13:02:15)\n",
       "   url=http://localhost:6900/dataset/c29c5a97-eb64-49d9-a57e-ec0a5f6e6038/annotation-mode\n",
       "   fields=[RemoteTextField(id=UUID('80f85ff4-052a-4e11-aec0-93e63857fcc2'), client=None, name='image', title='Image', required=True, type='text', use_markdown=True)]\n",
       "   questions=[RemoteLabelQuestion(id=UUID('81d57bd8-f69b-48fa-83cd-90fb805acd84'), client=None, name='label', title='Label', description=None, required=True, type='label_selection', labels=['aegislash', 'amoonguss', 'arcanine', 'azumarill', 'blastoise', 'blaziken', 'blissey', 'calyrex', 'celesteela', 'centiskorch', 'chansey', 'charizard', 'cinderace', 'clefable', 'clefairy', 'coalossal', 'comfey', 'cresselia', 'darmanitan', 'dialga', 'diggersby', 'dracovish', 'dracozolt', 'dragapult', 'drifblim', 'durant', 'dusclops', 'eternatus', 'excadrill', 'ferrothorn', 'garchomp', 'gastrodon', 'gigalith', 'glastrier', 'gothitelle', 'grimmsnarl', 'groudon', 'gyarados', 'heatran', 'hippowdon', 'hooh', 'hydreigon', 'incineroar', 'indeedee', 'kartana', 'kyogre', 'landorus', 'lapras', 'ludicolo', 'mamoswine', 'metagross', 'mewtwo', 'mienshao', 'milotic', 'mimikyu', 'moltres', 'necrozma', 'nihilego', 'ninetales', 'pheromosa', 'pikachu', 'porygon2', 'primarina', 'quagsire', 'raichu', 'raikou', 'regieleki', 'regigigas', 'registeel', 'rhyperior', 'rillaboom', 'rotom', 'sableye', 'scrafty', 'shedinja', 'skarmory', 'solgaleo', 'spectrier', 'stakataka', 'stoutland', 'sylveon', 'talonflame', 'tapufini', 'tapulele', 'thundurus', 'togedemaru', 'togekiss', 'torkoal', 'tornadus', 'toxapex', 'tyranitar', 'umbreon', 'urshifu', 'venusaur', 'weezing', 'whimsicott', 'xerneas', 'yveltal', 'zacian', 'zapdos', 'zekrom', 'zygarde'], visible_labels=20)]\n",
       "   guidelines=None)"
      ]
     },
     "execution_count": 223,
     "metadata": {},
     "output_type": "execute_result"
    }
   ],
   "source": [
    "label_image = my_image_dataset[\"train\"].features[\"label\"].names\n",
    "rg_ds_image = rg.FeedbackDataset(\n",
    "    fields=[rg.TextField(name=\"image\", use_markdown=True)],\n",
    "    questions=[rg.LabelQuestion(name=\"label\", labels=label)]\n",
    ")\n",
    "try:\n",
    "    rg_ds_image = rg.FeedbackDataset.from_argilla(\"image\")\n",
    "except:\n",
    "    rg_ds_image = rg_ds_image.push_to_argilla(\"image\")\n",
    "rg_ds_image"
   ]
  },
  {
   "cell_type": "markdown",
   "metadata": {},
   "source": [
    "Now, we will define our `FeedbackDataset` and add the DataURLs to it by using the b64encode function `image_to_dataurl`. Also, we will be adding dataset suggestions for each one of the label columns."
   ]
  },
  {
   "cell_type": "code",
   "execution_count": 224,
   "metadata": {},
   "outputs": [],
   "source": [
    "temp_img_path = \"data/making-most-of-markdown/temp_img.png\"\n",
    "records = []\n",
    "for entry in my_image_dataset[\"train\"]:\n",
    "    entry[\"image\"].save(temp_img_path, format=\"png\")\n",
    "    record = rg.FeedbackRecord(\n",
    "        fields={\"image\": image_to_dataurl(temp_img_path, file_type=\"png\")},\n",
    "        suggestions=[{\"question_name\": \"label\", \"value\": label_image[entry[\"label\"]]}]\n",
    "    )\n",
    "    try:\n",
    "        rg_ds_image.add_records(record, show_progress=False)\n",
    "    except Exception as e:\n",
    "        print(e)\n",
    "        pass"
   ]
  },
  {
   "cell_type": "markdown",
   "metadata": {},
   "source": [
    "### Argilla Markdown for document processing\n",
    "\n",
    "As mentioned above, we will be using IBM Deep Search to unstructured document processing.\n",
    "\n",
    "#### Configure Deep Search\n",
    "\n",
    "##### Signup\n",
    "\n",
    "Go to https://deepsearch-experience.res.ibm.com/ and sign up for an account using the Google OAuth integration. Afterwards, you can use the following command to install the library.\n",
    "\n",
    "![authenticate](data/making-most-of-markdown/deepsearch.png)\n",
    "\n",
    "\n",
    "```bash\n",
    "deepsearch profile config --profile-name \"ds-experience\" --host \"https://deepsearch-experience.res.ibm.com/\" --verify-ssl --username \"<your-email>\"\n",
    "```\n",
    "\n",
    "And add `your-api-key` to the prompted terminal.\n",
    "\n",
    "##### Save settings"
   ]
  },
  {
   "cell_type": "code",
   "execution_count": 225,
   "metadata": {},
   "outputs": [
    {
     "data": {
      "text/plain": [
       "PosixPath('data/making-most-of-markdown/pdf')"
      ]
     },
     "execution_count": 225,
     "metadata": {},
     "output_type": "execute_result"
    }
   ],
   "source": [
    "OUTPUT_DIR = Path(\"data/making-most-of-markdown/pdf/processed\")\n",
    "OUTPUT_DIR.mkdir(exist_ok=True)\n",
    "PROJECT_KEY = \"1234567890abcdefghijklmnopqrstvwyz123456\" # always fixed\n",
    "INPUT_FILE = Path(\"data/making-most-of-markdown/pdf\")\n",
    "INPUT_FILE"
   ]
  },
  {
   "cell_type": "code",
   "execution_count": 226,
   "metadata": {},
   "outputs": [
    {
     "data": {
      "text/plain": [
       "<deepsearch.cps.client.api.CpsApi at 0x28082b2e0>"
      ]
     },
     "execution_count": 226,
     "metadata": {},
     "output_type": "execute_result"
    }
   ],
   "source": [
    "api = deepsearch.CpsApi.from_env()\n",
    "api"
   ]
  },
  {
   "cell_type": "markdown",
   "metadata": {},
   "source": [
    "#### Process Deep Search documents\n",
    "\n",
    "Deep Search has a public API, and can this be used easily without needing to install anything. We will be using this API to process documents. We will be using the `convert_documents` function to convert and process the documents. This function takes in a file path, and returns the output of the Deep Search API. We will be using the `download_all` function later to download all the documents from the dataset."
   ]
  },
  {
   "cell_type": "code",
   "execution_count": 227,
   "metadata": {},
   "outputs": [
    {
     "name": "stderr",
     "output_type": "stream",
     "text": [
      "Processing input:     : 100%|\u001b[38;2;15;98;254m██████████████████████████████\u001b[0m| 2/2 [00:00<00:00, 202.90it/s]\u001b[38;2;15;98;254m\u001b[0m\n",
      "Submitting input:     : 100%|\u001b[38;2;15;98;254m██████████████████████████████\u001b[0m| 1/1 [00:04<00:00,  4.86s/it]\u001b[38;2;15;98;254m\u001b[0m\n",
      "Converting input:     : 100%|\u001b[38;2;15;98;254m██████████████████████████████\u001b[0m| 1/1 [00:29<00:00, 29.49s/it]\u001b[38;2;15;98;254m\u001b[0m\n",
      "Downloading result:   : 100%|\u001b[38;2;15;98;254m██████████████████████████████\u001b[0m| 2/2 [00:02<00:00,  1.16s/it]\u001b[38;2;15;98;254m\u001b[0m\n"
     ]
    }
   ],
   "source": [
    "documents = deepsearch.convert_documents(\n",
    "    api=api, proj_key=PROJECT_KEY, source_path=INPUT_FILE, progress_bar=True\n",
    ")\n",
    "documents.download_all(result_dir=OUTPUT_DIR, progress_bar=True)"
   ]
  },
  {
   "cell_type": "markdown",
   "metadata": {},
   "source": [
    "#### Creating QnA datasets\n",
    "\n",
    "We will be using the the [PDF examples from IBM Deep Search](https://github.com/DS4SD/deepsearch-examples/tree/main/data/samples) to showcase how we might extract tables and figures PDF-files and use this to create a multi-model QnA-dataset for LLM fine-tuning. First, we create a `FeedbackDataset` with a `content`-field that allows for markdown. Additionally, we will add two `TextQuestion`s that should correspond to the `question` and `answer`, delivered by the LLM."
   ]
  },
  {
   "cell_type": "code",
   "execution_count": 228,
   "metadata": {},
   "outputs": [
    {
     "data": {
      "text/plain": [
       "RemoteFeedbackDataset(\n",
       "   id=9988cd27-42fe-406a-a9de-91e36f50654a\n",
       "   name=llm-qna\n",
       "   workspace=Workspace(id=268dbd87-2970-46cd-a84a-e3785b7178b7, name=argilla, inserted_at=2023-08-14 13:02:15, updated_at=2023-08-14 13:02:15)\n",
       "   url=http://localhost:6900/dataset/9988cd27-42fe-406a-a9de-91e36f50654a/annotation-mode\n",
       "   fields=[RemoteTextField(id=UUID('2ccc8978-7c55-496f-9ff9-523af401052e'), client=None, name='content', title='Content', required=True, type='text', use_markdown=True)]\n",
       "   questions=[RemoteTextQuestion(id=UUID('640f2234-a80d-49dc-9575-8fcc7cbe9890'), client=None, name='question', title='Question', description=None, required=True, type='text', use_markdown=False), RemoteTextQuestion(id=UUID('13dd145f-2ab6-4528-967f-16c49e43f366'), client=None, name='answer', title='Answer', description=None, required=True, type='text', use_markdown=False)]\n",
       "   guidelines=None)"
      ]
     },
     "execution_count": 228,
     "metadata": {},
     "output_type": "execute_result"
    }
   ],
   "source": [
    "rg_llm_qna_ds = rg.FeedbackDataset(\n",
    "    fields=[rg.TextField(name=\"content\", use_markdown=True)],\n",
    "    questions=[\n",
    "        rg.TextQuestion(name=\"question\"),\n",
    "        rg.TextQuestion(name=\"answer\")\n",
    "    ]\n",
    ")\n",
    "try:\n",
    "    rg_llm_qna_ds = rg.FeedbackDataset.from_argilla(\"llm-qna\")\n",
    "except:\n",
    "    rg_llm_qna_ds = rg_llm_qna_ds.push_to_argilla(\"llm-qna\")\n",
    "rg_llm_qna_ds"
   ]
  },
  {
   "cell_type": "markdown",
   "metadata": {},
   "source": [
    "##### Extracting tables\n",
    "\n",
    "Deep Search allows for [extracting tables from PDF-files](https://github.com/DS4SD/deepsearch-examples/blob/main/examples/document_conversion_extract_tables/extract_tables.ipynb). We will be using this to extract tables from the PDF-files and add them to the `FeedbackDataset`. We will be using the converted documents to do this. First, we will define a function that loads the converted documents and extracts the tables from them. Next, we will add the tables to the `FeedbackDataset` by using the `add_records`-method."
   ]
  },
  {
   "cell_type": "code",
   "execution_count": 229,
   "metadata": {},
   "outputs": [],
   "source": [
    "def get_tablecell_span(cell, ix):\n",
    "    span = set([s[ix] for s in cell['spans']])\n",
    "    if len(span) == 0:\n",
    "        return 1, None, None\n",
    "    return len(span), min(span), max(span)\n",
    "\n",
    "\n",
    "def write_table(item):\n",
    "    \"\"\"\n",
    "    Convert the JSON table representation to HTML, including column and row spans.\n",
    "    \n",
    "    Parameters\n",
    "    ----------\n",
    "    item :\n",
    "        JSON table\n",
    "    doc_cellsdata :\n",
    "        Cells document provided by the Deep Search conversion\n",
    "    ncols : int, Default=3\n",
    "        Number of columns in the display table.\n",
    "    \"\"\"\n",
    "    \n",
    "    table = item\n",
    "    body = \"\"\n",
    "\n",
    "    nrows = table['#-rows']\n",
    "    ncols = table['#-cols']\n",
    "\n",
    "    body += \"<table>\\n\"\n",
    "    for i in range(nrows):\n",
    "        body += \"  <tr>\\n\"\n",
    "        for j in range(ncols):\n",
    "            cell = table['data'][i][j]\n",
    "\n",
    "            rowspan,rowstart,rowend = get_tablecell_span(cell, 0)\n",
    "            colspan,colstart,colend = get_tablecell_span(cell, 1)\n",
    "\n",
    "            if rowstart is not None and rowstart != i: continue\n",
    "            if colstart is not None and colstart != j: continue\n",
    "\n",
    "            if rowstart is None:\n",
    "                rowstart = i\n",
    "            if colstart is None:\n",
    "                colstart = j\n",
    "\n",
    "            content = cell['text']\n",
    "            if content == '':\n",
    "                content = '&nbsp;'\n",
    "\n",
    "            label = cell['type']\n",
    "            label_class = 'body'\n",
    "            if label in ['row_header', 'row_multi_header', 'row_title']:\n",
    "                label_class = 'header'\n",
    "            elif label in ['col_header', 'col_multi_header']:\n",
    "                label_class = 'header'\n",
    "            \n",
    "            \n",
    "            celltag = 'th' if label_class == 'header' else 'td'\n",
    "            style = 'style=\"text-align: center;\"' if label_class == 'header' else ''\n",
    "\n",
    "            body += f'    <{celltag} rowstart=\"{rowstart}\" colstart=\"{colstart}\" rowspan=\"{rowspan}\" colspan=\"{colspan}\" {style}>{content}</{celltag}>\\n'\n",
    "\n",
    "        body += \"  </tr>\\n\"\n",
    "\n",
    "    body += \"</table>\"\n",
    "\n",
    "    return body\n",
    "\n",
    "def get_document_tables(doc_jsondata):\n",
    "    \"\"\"\n",
    "    Visualize the tables idenfitied in the converted document.\n",
    "    \n",
    "    Parameters\n",
    "    ----------\n",
    "    doc_jsondata :\n",
    "        Converted document\n",
    "    \"\"\"\n",
    "\n",
    "    tables = []\n",
    "    page_counters = {}\n",
    "    # Iterate through all the tables identified in the converted document\n",
    "    for table in doc_jsondata.get(\"tables\", []):\n",
    "        prov = table[\"prov\"][0]\n",
    "        page = prov[\"page\"]\n",
    "        page_counters.setdefault(page, 0)\n",
    "        page_counters[page] += 1\n",
    "        \n",
    "        output_html = write_table(table)\n",
    "        tables.append(output_html)\n",
    "    return tables\n"
   ]
  },
  {
   "cell_type": "code",
   "execution_count": 230,
   "metadata": {},
   "outputs": [
    {
     "data": {
      "text/plain": [
       "['<table>\\n  <tr>\\n    <th rowstart=\"0\" colstart=\"0\" rowspan=\"1\" colspan=\"1\" style=\"text-align: center;\">&nbsp;</th>\\n    <th rowstart=\"0\" colstart=\"1\" rowspan=\"1\" colspan=\"1\" style=\"text-align: center;\">&nbsp;</th>\\n    <td rowstart=\"0\" colstart=\"2\" rowspan=\"1\" colspan=\"3\" >% of Total </td>\\n    <td rowstart=\"0\" colstart=\"5\" rowspan=\"1\" colspan=\"7\" >triple inter-annotator mAP @ 0.5-0.95 (%) </td>\\n  </tr>\\n  <tr>\\n    <td rowstart=\"1\" colstart=\"0\" rowspan=\"1\" colspan=\"1\" >class label </td>\\n    <td rowstart=\"1\" colstart=\"1\" rowspan=\"1\" colspan=\"1\" >Count </td>\\n    <td rowstart=\"1\" colstart=\"2\" rowspan=\"1\" colspan=\"1\" >Train </td>\\n    <td rowstart=\"1\" colstart=\"3\" rowspan=\"1\" colspan=\"1\" >Test </td>\\n    <td rowstart=\"1\" colstart=\"4\" rowspan=\"1\" colspan=\"1\" >Val </td>\\n    <td rowstart=\"1\" colstart=\"5\" rowspan=\"1\" colspan=\"1\" >All </td>\\n    <td rowstart=\"1\" colstart=\"6\" rowspan=\"1\" colspan=\"1\" >Fin </td>\\n    <td rowstart=\"1\" colstart=\"7\" rowspan=\"1\" colspan=\"1\" >Man </td>\\n    <td rowstart=\"1\" colstart=\"8\" rowspan=\"1\" colspan=\"1\" >Sci </td>\\n    <td rowstart=\"1\" colstart=\"9\" rowspan=\"1\" colspan=\"1\" >Law </td>\\n    <td rowstart=\"1\" colstart=\"10\" rowspan=\"1\" colspan=\"1\" >Pat </td>\\n    <td rowstart=\"1\" colstart=\"11\" rowspan=\"1\" colspan=\"1\" >Ten </td>\\n  </tr>\\n  <tr>\\n    <td rowstart=\"2\" colstart=\"0\" rowspan=\"1\" colspan=\"1\" >Caption </td>\\n    <td rowstart=\"2\" colstart=\"1\" rowspan=\"1\" colspan=\"1\" >22524 </td>\\n    <td rowstart=\"2\" colstart=\"2\" rowspan=\"1\" colspan=\"1\" >2.04 </td>\\n    <td rowstart=\"2\" colstart=\"3\" rowspan=\"1\" colspan=\"1\" >1.77 </td>\\n    <td rowstart=\"2\" colstart=\"4\" rowspan=\"1\" colspan=\"1\" >2.32 </td>\\n    <td rowstart=\"2\" colstart=\"5\" rowspan=\"1\" colspan=\"1\" >84-89 </td>\\n    <td rowstart=\"2\" colstart=\"6\" rowspan=\"1\" colspan=\"1\" >40-61 </td>\\n    <td rowstart=\"2\" colstart=\"7\" rowspan=\"1\" colspan=\"1\" >86-92 </td>\\n    <td rowstart=\"2\" colstart=\"8\" rowspan=\"1\" colspan=\"1\" >94-99 </td>\\n    <td rowstart=\"2\" colstart=\"9\" rowspan=\"1\" colspan=\"1\" >95-99 </td>\\n    <td rowstart=\"2\" colstart=\"10\" rowspan=\"1\" colspan=\"1\" >69-78 </td>\\n    <td rowstart=\"2\" colstart=\"11\" rowspan=\"1\" colspan=\"1\" >n/a </td>\\n  </tr>\\n  <tr>\\n    <td rowstart=\"3\" colstart=\"0\" rowspan=\"1\" colspan=\"1\" >Footnote </td>\\n    <td rowstart=\"3\" colstart=\"1\" rowspan=\"1\" colspan=\"1\" >6318 </td>\\n    <td rowstart=\"3\" colstart=\"2\" rowspan=\"1\" colspan=\"1\" >0.60 </td>\\n    <td rowstart=\"3\" colstart=\"3\" rowspan=\"1\" colspan=\"1\" >0.31 </td>\\n    <td rowstart=\"3\" colstart=\"4\" rowspan=\"1\" colspan=\"1\" >0.58 </td>\\n    <td rowstart=\"3\" colstart=\"5\" rowspan=\"1\" colspan=\"1\" >83-91 </td>\\n    <td rowstart=\"3\" colstart=\"6\" rowspan=\"1\" colspan=\"1\" >n/a </td>\\n    <td rowstart=\"3\" colstart=\"7\" rowspan=\"1\" colspan=\"1\" >100 </td>\\n    <td rowstart=\"3\" colstart=\"8\" rowspan=\"1\" colspan=\"1\" >62-88 </td>\\n    <td rowstart=\"3\" colstart=\"9\" rowspan=\"1\" colspan=\"1\" >85-94 </td>\\n    <td rowstart=\"3\" colstart=\"10\" rowspan=\"1\" colspan=\"1\" >n/a </td>\\n    <td rowstart=\"3\" colstart=\"11\" rowspan=\"1\" colspan=\"1\" >82-97 </td>\\n  </tr>\\n  <tr>\\n    <td rowstart=\"4\" colstart=\"0\" rowspan=\"1\" colspan=\"1\" >Formula </td>\\n    <td rowstart=\"4\" colstart=\"1\" rowspan=\"1\" colspan=\"1\" >25027 </td>\\n    <td rowstart=\"4\" colstart=\"2\" rowspan=\"1\" colspan=\"1\" >2.25 </td>\\n    <td rowstart=\"4\" colstart=\"3\" rowspan=\"1\" colspan=\"1\" >1.90 </td>\\n    <td rowstart=\"4\" colstart=\"4\" rowspan=\"1\" colspan=\"1\" >2.96 </td>\\n    <td rowstart=\"4\" colstart=\"5\" rowspan=\"1\" colspan=\"1\" >83-85 </td>\\n    <td rowstart=\"4\" colstart=\"6\" rowspan=\"1\" colspan=\"1\" >n/a </td>\\n    <td rowstart=\"4\" colstart=\"7\" rowspan=\"1\" colspan=\"1\" >n/a </td>\\n    <td rowstart=\"4\" colstart=\"8\" rowspan=\"1\" colspan=\"1\" >84-87 </td>\\n    <td rowstart=\"4\" colstart=\"9\" rowspan=\"1\" colspan=\"1\" >86-96 </td>\\n    <td rowstart=\"4\" colstart=\"10\" rowspan=\"1\" colspan=\"1\" >n/a </td>\\n    <td rowstart=\"4\" colstart=\"11\" rowspan=\"1\" colspan=\"1\" >n/a </td>\\n  </tr>\\n  <tr>\\n    <td rowstart=\"5\" colstart=\"0\" rowspan=\"1\" colspan=\"1\" >List-item </td>\\n    <td rowstart=\"5\" colstart=\"1\" rowspan=\"1\" colspan=\"1\" >185660 </td>\\n    <td rowstart=\"5\" colstart=\"2\" rowspan=\"1\" colspan=\"1\" >17.19 </td>\\n    <td rowstart=\"5\" colstart=\"3\" rowspan=\"1\" colspan=\"1\" >13.34 </td>\\n    <td rowstart=\"5\" colstart=\"4\" rowspan=\"1\" colspan=\"1\" >15.82 </td>\\n    <td rowstart=\"5\" colstart=\"5\" rowspan=\"1\" colspan=\"1\" >87-88 </td>\\n    <td rowstart=\"5\" colstart=\"6\" rowspan=\"1\" colspan=\"1\" >74-83 </td>\\n    <td rowstart=\"5\" colstart=\"7\" rowspan=\"1\" colspan=\"1\" >90-92 </td>\\n    <td rowstart=\"5\" colstart=\"8\" rowspan=\"1\" colspan=\"1\" >97-97 </td>\\n    <td rowstart=\"5\" colstart=\"9\" rowspan=\"1\" colspan=\"1\" >81-85 </td>\\n    <td rowstart=\"5\" colstart=\"10\" rowspan=\"1\" colspan=\"1\" >75-88 </td>\\n    <td rowstart=\"5\" colstart=\"11\" rowspan=\"1\" colspan=\"1\" >93-95 </td>\\n  </tr>\\n  <tr>\\n    <td rowstart=\"6\" colstart=\"0\" rowspan=\"1\" colspan=\"1\" >Page-footer </td>\\n    <td rowstart=\"6\" colstart=\"1\" rowspan=\"1\" colspan=\"1\" >70878 </td>\\n    <td rowstart=\"6\" colstart=\"2\" rowspan=\"1\" colspan=\"1\" >6.51 </td>\\n    <td rowstart=\"6\" colstart=\"3\" rowspan=\"1\" colspan=\"1\" >5.58 </td>\\n    <td rowstart=\"6\" colstart=\"4\" rowspan=\"1\" colspan=\"1\" >6.00 </td>\\n    <td rowstart=\"6\" colstart=\"5\" rowspan=\"1\" colspan=\"1\" >93-94 </td>\\n    <td rowstart=\"6\" colstart=\"6\" rowspan=\"1\" colspan=\"1\" >88-90 </td>\\n    <td rowstart=\"6\" colstart=\"7\" rowspan=\"1\" colspan=\"1\" >95-96 </td>\\n    <td rowstart=\"6\" colstart=\"8\" rowspan=\"1\" colspan=\"1\" >100 </td>\\n    <td rowstart=\"6\" colstart=\"9\" rowspan=\"1\" colspan=\"1\" >92-97 </td>\\n    <td rowstart=\"6\" colstart=\"10\" rowspan=\"1\" colspan=\"1\" >100 </td>\\n    <td rowstart=\"6\" colstart=\"11\" rowspan=\"1\" colspan=\"1\" >96-98 </td>\\n  </tr>\\n  <tr>\\n    <td rowstart=\"7\" colstart=\"0\" rowspan=\"1\" colspan=\"1\" >Page-header </td>\\n    <td rowstart=\"7\" colstart=\"1\" rowspan=\"1\" colspan=\"1\" >58022 </td>\\n    <td rowstart=\"7\" colstart=\"2\" rowspan=\"1\" colspan=\"1\" >5.10 </td>\\n    <td rowstart=\"7\" colstart=\"3\" rowspan=\"1\" colspan=\"1\" >6.70 </td>\\n    <td rowstart=\"7\" colstart=\"4\" rowspan=\"1\" colspan=\"1\" >5.06 </td>\\n    <td rowstart=\"7\" colstart=\"5\" rowspan=\"1\" colspan=\"1\" >85-89 </td>\\n    <td rowstart=\"7\" colstart=\"6\" rowspan=\"1\" colspan=\"1\" >66-76 </td>\\n    <td rowstart=\"7\" colstart=\"7\" rowspan=\"1\" colspan=\"1\" >90-94 </td>\\n    <td rowstart=\"7\" colstart=\"8\" rowspan=\"1\" colspan=\"1\" >98-100 </td>\\n    <td rowstart=\"7\" colstart=\"9\" rowspan=\"1\" colspan=\"1\" >91-92 </td>\\n    <td rowstart=\"7\" colstart=\"10\" rowspan=\"1\" colspan=\"1\" >97-99 </td>\\n    <td rowstart=\"7\" colstart=\"11\" rowspan=\"1\" colspan=\"1\" >81-86 </td>\\n  </tr>\\n  <tr>\\n    <td rowstart=\"8\" colstart=\"0\" rowspan=\"1\" colspan=\"1\" >Picture </td>\\n    <td rowstart=\"8\" colstart=\"1\" rowspan=\"1\" colspan=\"1\" >45976 </td>\\n    <td rowstart=\"8\" colstart=\"2\" rowspan=\"1\" colspan=\"1\" >4.21 </td>\\n    <td rowstart=\"8\" colstart=\"3\" rowspan=\"1\" colspan=\"1\" >2.78 </td>\\n    <td rowstart=\"8\" colstart=\"4\" rowspan=\"1\" colspan=\"1\" >5.31 </td>\\n    <td rowstart=\"8\" colstart=\"5\" rowspan=\"1\" colspan=\"1\" >69-71 </td>\\n    <td rowstart=\"8\" colstart=\"6\" rowspan=\"1\" colspan=\"1\" >56-59 </td>\\n    <td rowstart=\"8\" colstart=\"7\" rowspan=\"1\" colspan=\"1\" >82-86 </td>\\n    <td rowstart=\"8\" colstart=\"8\" rowspan=\"1\" colspan=\"1\" >69-82 </td>\\n    <td rowstart=\"8\" colstart=\"9\" rowspan=\"1\" colspan=\"1\" >80-95 </td>\\n    <td rowstart=\"8\" colstart=\"10\" rowspan=\"1\" colspan=\"1\" >66-71 </td>\\n    <td rowstart=\"8\" colstart=\"11\" rowspan=\"1\" colspan=\"1\" >59-76 </td>\\n  </tr>\\n  <tr>\\n    <td rowstart=\"9\" colstart=\"0\" rowspan=\"1\" colspan=\"1\" >Section-header </td>\\n    <td rowstart=\"9\" colstart=\"1\" rowspan=\"1\" colspan=\"1\" >142884 </td>\\n    <td rowstart=\"9\" colstart=\"2\" rowspan=\"1\" colspan=\"1\" >12.60 </td>\\n    <td rowstart=\"9\" colstart=\"3\" rowspan=\"1\" colspan=\"1\" >15.77 </td>\\n    <td rowstart=\"9\" colstart=\"4\" rowspan=\"1\" colspan=\"1\" >12.85 </td>\\n    <td rowstart=\"9\" colstart=\"5\" rowspan=\"1\" colspan=\"1\" >83-84 </td>\\n    <td rowstart=\"9\" colstart=\"6\" rowspan=\"1\" colspan=\"1\" >76-81 </td>\\n    <td rowstart=\"9\" colstart=\"7\" rowspan=\"1\" colspan=\"1\" >90-92 </td>\\n    <td rowstart=\"9\" colstart=\"8\" rowspan=\"1\" colspan=\"1\" >94-95 </td>\\n    <td rowstart=\"9\" colstart=\"9\" rowspan=\"1\" colspan=\"1\" >87-94 </td>\\n    <td rowstart=\"9\" colstart=\"10\" rowspan=\"1\" colspan=\"1\" >69-73 </td>\\n    <td rowstart=\"9\" colstart=\"11\" rowspan=\"1\" colspan=\"1\" >78-86 </td>\\n  </tr>\\n  <tr>\\n    <td rowstart=\"10\" colstart=\"0\" rowspan=\"1\" colspan=\"1\" >Table </td>\\n    <td rowstart=\"10\" colstart=\"1\" rowspan=\"1\" colspan=\"1\" >34733 </td>\\n    <td rowstart=\"10\" colstart=\"2\" rowspan=\"1\" colspan=\"1\" >3.20 </td>\\n    <td rowstart=\"10\" colstart=\"3\" rowspan=\"1\" colspan=\"1\" >2.27 </td>\\n    <td rowstart=\"10\" colstart=\"4\" rowspan=\"1\" colspan=\"1\" >3.60 </td>\\n    <td rowstart=\"10\" colstart=\"5\" rowspan=\"1\" colspan=\"1\" >77-81 </td>\\n    <td rowstart=\"10\" colstart=\"6\" rowspan=\"1\" colspan=\"1\" >75-80 </td>\\n    <td rowstart=\"10\" colstart=\"7\" rowspan=\"1\" colspan=\"1\" >83-86 </td>\\n    <td rowstart=\"10\" colstart=\"8\" rowspan=\"1\" colspan=\"1\" >98-99 </td>\\n    <td rowstart=\"10\" colstart=\"9\" rowspan=\"1\" colspan=\"1\" >58-80 </td>\\n    <td rowstart=\"10\" colstart=\"10\" rowspan=\"1\" colspan=\"1\" >79-84 </td>\\n    <td rowstart=\"10\" colstart=\"11\" rowspan=\"1\" colspan=\"1\" >70-85 </td>\\n  </tr>\\n  <tr>\\n    <td rowstart=\"11\" colstart=\"0\" rowspan=\"1\" colspan=\"1\" >Text </td>\\n    <td rowstart=\"11\" colstart=\"1\" rowspan=\"1\" colspan=\"1\" >510377 </td>\\n    <td rowstart=\"11\" colstart=\"2\" rowspan=\"1\" colspan=\"1\" >45.82 </td>\\n    <td rowstart=\"11\" colstart=\"3\" rowspan=\"1\" colspan=\"1\" >49.28 </td>\\n    <td rowstart=\"11\" colstart=\"4\" rowspan=\"1\" colspan=\"1\" >45.00 </td>\\n    <td rowstart=\"11\" colstart=\"5\" rowspan=\"1\" colspan=\"1\" >84-86 </td>\\n    <td rowstart=\"11\" colstart=\"6\" rowspan=\"1\" colspan=\"1\" >81-86 </td>\\n    <td rowstart=\"11\" colstart=\"7\" rowspan=\"1\" colspan=\"1\" >88-93 </td>\\n    <td rowstart=\"11\" colstart=\"8\" rowspan=\"1\" colspan=\"1\" >89-93 </td>\\n    <td rowstart=\"11\" colstart=\"9\" rowspan=\"1\" colspan=\"1\" >87-92 </td>\\n    <td rowstart=\"11\" colstart=\"10\" rowspan=\"1\" colspan=\"1\" >71-79 </td>\\n    <td rowstart=\"11\" colstart=\"11\" rowspan=\"1\" colspan=\"1\" >87-95 </td>\\n  </tr>\\n  <tr>\\n    <td rowstart=\"12\" colstart=\"0\" rowspan=\"1\" colspan=\"1\" >Title </td>\\n    <td rowstart=\"12\" colstart=\"1\" rowspan=\"1\" colspan=\"1\" >5071 </td>\\n    <td rowstart=\"12\" colstart=\"2\" rowspan=\"1\" colspan=\"1\" >0.47 </td>\\n    <td rowstart=\"12\" colstart=\"3\" rowspan=\"1\" colspan=\"1\" >0.30 </td>\\n    <td rowstart=\"12\" colstart=\"4\" rowspan=\"1\" colspan=\"1\" >0.50 </td>\\n    <td rowstart=\"12\" colstart=\"5\" rowspan=\"1\" colspan=\"1\" >60-72 </td>\\n    <td rowstart=\"12\" colstart=\"6\" rowspan=\"1\" colspan=\"1\" >24-63 </td>\\n    <td rowstart=\"12\" colstart=\"7\" rowspan=\"1\" colspan=\"1\" >50-63 </td>\\n    <td rowstart=\"12\" colstart=\"8\" rowspan=\"1\" colspan=\"1\" >94-100 </td>\\n    <td rowstart=\"12\" colstart=\"9\" rowspan=\"1\" colspan=\"1\" >82-96 </td>\\n    <td rowstart=\"12\" colstart=\"10\" rowspan=\"1\" colspan=\"1\" >68-79 </td>\\n    <td rowstart=\"12\" colstart=\"11\" rowspan=\"1\" colspan=\"1\" >24-56 </td>\\n  </tr>\\n  <tr>\\n    <td rowstart=\"13\" colstart=\"0\" rowspan=\"1\" colspan=\"1\" >Total </td>\\n    <td rowstart=\"13\" colstart=\"1\" rowspan=\"1\" colspan=\"1\" >1107470 </td>\\n    <td rowstart=\"13\" colstart=\"2\" rowspan=\"1\" colspan=\"1\" >941123 </td>\\n    <td rowstart=\"13\" colstart=\"3\" rowspan=\"1\" colspan=\"1\" >99816 </td>\\n    <td rowstart=\"13\" colstart=\"4\" rowspan=\"1\" colspan=\"1\" >66531 </td>\\n    <td rowstart=\"13\" colstart=\"5\" rowspan=\"1\" colspan=\"1\" >82-83 </td>\\n    <td rowstart=\"13\" colstart=\"6\" rowspan=\"1\" colspan=\"1\" >71-74 </td>\\n    <td rowstart=\"13\" colstart=\"7\" rowspan=\"1\" colspan=\"1\" >79-81 </td>\\n    <td rowstart=\"13\" colstart=\"8\" rowspan=\"1\" colspan=\"1\" >89-94 </td>\\n    <td rowstart=\"13\" colstart=\"9\" rowspan=\"1\" colspan=\"1\" >86-91 </td>\\n    <td rowstart=\"13\" colstart=\"10\" rowspan=\"1\" colspan=\"1\" >71-76 </td>\\n    <td rowstart=\"13\" colstart=\"11\" rowspan=\"1\" colspan=\"1\" >68-85 </td>\\n  </tr>\\n</table>',\n",
       " '<table>\\n  <tr>\\n    <th rowstart=\"0\" colstart=\"0\" rowspan=\"1\" colspan=\"1\" style=\"text-align: center;\">&nbsp;</th>\\n    <td rowstart=\"0\" colstart=\"1\" rowspan=\"1\" colspan=\"1\" >human </td>\\n    <td rowstart=\"0\" colstart=\"2\" rowspan=\"1\" colspan=\"2\" >MRCNN </td>\\n    <td rowstart=\"0\" colstart=\"4\" rowspan=\"1\" colspan=\"1\" >FRCNN </td>\\n    <td rowstart=\"0\" colstart=\"5\" rowspan=\"1\" colspan=\"1\" >YOLO </td>\\n  </tr>\\n  <tr>\\n    <td rowstart=\"1\" colstart=\"0\" rowspan=\"1\" colspan=\"1\" >&nbsp;</td>\\n    <td rowstart=\"1\" colstart=\"1\" rowspan=\"1\" colspan=\"1\" >&nbsp;</td>\\n    <td rowstart=\"1\" colstart=\"2\" rowspan=\"1\" colspan=\"1\" >R50 </td>\\n    <td rowstart=\"1\" colstart=\"3\" rowspan=\"1\" colspan=\"1\" >R101 </td>\\n    <td rowstart=\"1\" colstart=\"4\" rowspan=\"1\" colspan=\"1\" >R101 </td>\\n    <td rowstart=\"1\" colstart=\"5\" rowspan=\"1\" colspan=\"1\" >v5x6 </td>\\n  </tr>\\n  <tr>\\n    <td rowstart=\"2\" colstart=\"0\" rowspan=\"1\" colspan=\"1\" >Caption </td>\\n    <td rowstart=\"2\" colstart=\"1\" rowspan=\"1\" colspan=\"1\" >84-89 </td>\\n    <td rowstart=\"2\" colstart=\"2\" rowspan=\"1\" colspan=\"1\" >68.4 </td>\\n    <td rowstart=\"2\" colstart=\"3\" rowspan=\"1\" colspan=\"1\" >71.5 </td>\\n    <td rowstart=\"2\" colstart=\"4\" rowspan=\"1\" colspan=\"1\" >70.1 </td>\\n    <td rowstart=\"2\" colstart=\"5\" rowspan=\"1\" colspan=\"1\" >77.7 </td>\\n  </tr>\\n  <tr>\\n    <td rowstart=\"3\" colstart=\"0\" rowspan=\"1\" colspan=\"1\" >Footnote </td>\\n    <td rowstart=\"3\" colstart=\"1\" rowspan=\"1\" colspan=\"1\" >83-91 </td>\\n    <td rowstart=\"3\" colstart=\"2\" rowspan=\"1\" colspan=\"1\" >70.9 </td>\\n    <td rowstart=\"3\" colstart=\"3\" rowspan=\"1\" colspan=\"1\" >71.8 </td>\\n    <td rowstart=\"3\" colstart=\"4\" rowspan=\"1\" colspan=\"1\" >73.7 </td>\\n    <td rowstart=\"3\" colstart=\"5\" rowspan=\"1\" colspan=\"1\" >77.2 </td>\\n  </tr>\\n  <tr>\\n    <td rowstart=\"4\" colstart=\"0\" rowspan=\"1\" colspan=\"1\" >Formula </td>\\n    <td rowstart=\"4\" colstart=\"1\" rowspan=\"1\" colspan=\"1\" >83-85 </td>\\n    <td rowstart=\"4\" colstart=\"2\" rowspan=\"1\" colspan=\"1\" >60.1 </td>\\n    <td rowstart=\"4\" colstart=\"3\" rowspan=\"1\" colspan=\"1\" >63.4 </td>\\n    <td rowstart=\"4\" colstart=\"4\" rowspan=\"1\" colspan=\"1\" >63.5 </td>\\n    <td rowstart=\"4\" colstart=\"5\" rowspan=\"1\" colspan=\"1\" >66.2 </td>\\n  </tr>\\n  <tr>\\n    <td rowstart=\"5\" colstart=\"0\" rowspan=\"1\" colspan=\"1\" >List-item </td>\\n    <td rowstart=\"5\" colstart=\"1\" rowspan=\"1\" colspan=\"1\" >87-88 </td>\\n    <td rowstart=\"5\" colstart=\"2\" rowspan=\"1\" colspan=\"1\" >81.2 </td>\\n    <td rowstart=\"5\" colstart=\"3\" rowspan=\"1\" colspan=\"1\" >80.8 </td>\\n    <td rowstart=\"5\" colstart=\"4\" rowspan=\"1\" colspan=\"1\" >81.0 </td>\\n    <td rowstart=\"5\" colstart=\"5\" rowspan=\"1\" colspan=\"1\" >86.2 </td>\\n  </tr>\\n  <tr>\\n    <td rowstart=\"6\" colstart=\"0\" rowspan=\"1\" colspan=\"1\" >Page-footer </td>\\n    <td rowstart=\"6\" colstart=\"1\" rowspan=\"1\" colspan=\"1\" >93-94 </td>\\n    <td rowstart=\"6\" colstart=\"2\" rowspan=\"1\" colspan=\"1\" >61.6 </td>\\n    <td rowstart=\"6\" colstart=\"3\" rowspan=\"1\" colspan=\"1\" >59.3 </td>\\n    <td rowstart=\"6\" colstart=\"4\" rowspan=\"1\" colspan=\"1\" >58.9 </td>\\n    <td rowstart=\"6\" colstart=\"5\" rowspan=\"1\" colspan=\"1\" >61.1 </td>\\n  </tr>\\n  <tr>\\n    <td rowstart=\"7\" colstart=\"0\" rowspan=\"1\" colspan=\"1\" >Page-header </td>\\n    <td rowstart=\"7\" colstart=\"1\" rowspan=\"1\" colspan=\"1\" >85-89 </td>\\n    <td rowstart=\"7\" colstart=\"2\" rowspan=\"1\" colspan=\"1\" >71.9 </td>\\n    <td rowstart=\"7\" colstart=\"3\" rowspan=\"1\" colspan=\"1\" >70.0 </td>\\n    <td rowstart=\"7\" colstart=\"4\" rowspan=\"1\" colspan=\"1\" >72.0 </td>\\n    <td rowstart=\"7\" colstart=\"5\" rowspan=\"1\" colspan=\"1\" >67.9 </td>\\n  </tr>\\n  <tr>\\n    <td rowstart=\"8\" colstart=\"0\" rowspan=\"1\" colspan=\"1\" >Picture </td>\\n    <td rowstart=\"8\" colstart=\"1\" rowspan=\"1\" colspan=\"1\" >69-71 </td>\\n    <td rowstart=\"8\" colstart=\"2\" rowspan=\"1\" colspan=\"1\" >71.7 </td>\\n    <td rowstart=\"8\" colstart=\"3\" rowspan=\"1\" colspan=\"1\" >72.7 </td>\\n    <td rowstart=\"8\" colstart=\"4\" rowspan=\"1\" colspan=\"1\" >72.0 </td>\\n    <td rowstart=\"8\" colstart=\"5\" rowspan=\"1\" colspan=\"1\" >77.1 </td>\\n  </tr>\\n  <tr>\\n    <td rowstart=\"9\" colstart=\"0\" rowspan=\"1\" colspan=\"1\" >Section-header </td>\\n    <td rowstart=\"9\" colstart=\"1\" rowspan=\"1\" colspan=\"1\" >83-84 </td>\\n    <td rowstart=\"9\" colstart=\"2\" rowspan=\"1\" colspan=\"1\" >67.6 </td>\\n    <td rowstart=\"9\" colstart=\"3\" rowspan=\"1\" colspan=\"1\" >69.3 </td>\\n    <td rowstart=\"9\" colstart=\"4\" rowspan=\"1\" colspan=\"1\" >68.4 </td>\\n    <td rowstart=\"9\" colstart=\"5\" rowspan=\"1\" colspan=\"1\" >74.6 </td>\\n  </tr>\\n  <tr>\\n    <td rowstart=\"10\" colstart=\"0\" rowspan=\"1\" colspan=\"1\" >Table </td>\\n    <td rowstart=\"10\" colstart=\"1\" rowspan=\"1\" colspan=\"1\" >77-81 </td>\\n    <td rowstart=\"10\" colstart=\"2\" rowspan=\"1\" colspan=\"1\" >82.2 </td>\\n    <td rowstart=\"10\" colstart=\"3\" rowspan=\"1\" colspan=\"1\" >82.9 </td>\\n    <td rowstart=\"10\" colstart=\"4\" rowspan=\"1\" colspan=\"1\" >82.2 </td>\\n    <td rowstart=\"10\" colstart=\"5\" rowspan=\"1\" colspan=\"1\" >86.3 </td>\\n  </tr>\\n  <tr>\\n    <td rowstart=\"11\" colstart=\"0\" rowspan=\"1\" colspan=\"1\" >Text </td>\\n    <td rowstart=\"11\" colstart=\"1\" rowspan=\"1\" colspan=\"1\" >84-86 </td>\\n    <td rowstart=\"11\" colstart=\"2\" rowspan=\"1\" colspan=\"1\" >84.6 </td>\\n    <td rowstart=\"11\" colstart=\"3\" rowspan=\"1\" colspan=\"1\" >85.8 </td>\\n    <td rowstart=\"11\" colstart=\"4\" rowspan=\"1\" colspan=\"1\" >85.4 </td>\\n    <td rowstart=\"11\" colstart=\"5\" rowspan=\"1\" colspan=\"1\" >88.1 </td>\\n  </tr>\\n  <tr>\\n    <td rowstart=\"12\" colstart=\"0\" rowspan=\"1\" colspan=\"1\" >Title </td>\\n    <td rowstart=\"12\" colstart=\"1\" rowspan=\"1\" colspan=\"1\" >60-72 </td>\\n    <td rowstart=\"12\" colstart=\"2\" rowspan=\"1\" colspan=\"1\" >76.7 </td>\\n    <td rowstart=\"12\" colstart=\"3\" rowspan=\"1\" colspan=\"1\" >80.4 </td>\\n    <td rowstart=\"12\" colstart=\"4\" rowspan=\"1\" colspan=\"1\" >79.9 </td>\\n    <td rowstart=\"12\" colstart=\"5\" rowspan=\"1\" colspan=\"1\" >82.7 </td>\\n  </tr>\\n  <tr>\\n    <td rowstart=\"13\" colstart=\"0\" rowspan=\"1\" colspan=\"1\" >All </td>\\n    <td rowstart=\"13\" colstart=\"1\" rowspan=\"1\" colspan=\"1\" >82-83 </td>\\n    <td rowstart=\"13\" colstart=\"2\" rowspan=\"1\" colspan=\"1\" >72.4 </td>\\n    <td rowstart=\"13\" colstart=\"3\" rowspan=\"1\" colspan=\"1\" >73.5 </td>\\n    <td rowstart=\"13\" colstart=\"4\" rowspan=\"1\" colspan=\"1\" >73.4 </td>\\n    <td rowstart=\"13\" colstart=\"5\" rowspan=\"1\" colspan=\"1\" >76.8 </td>\\n  </tr>\\n</table>',\n",
       " '<table>\\n  <tr>\\n    <td rowstart=\"0\" colstart=\"0\" rowspan=\"1\" colspan=\"1\" >Class-count </td>\\n    <td rowstart=\"0\" colstart=\"1\" rowspan=\"1\" colspan=\"1\" >11 </td>\\n    <td rowstart=\"0\" colstart=\"2\" rowspan=\"1\" colspan=\"1\" >6 </td>\\n    <td rowstart=\"0\" colstart=\"3\" rowspan=\"1\" colspan=\"1\" >5 </td>\\n    <td rowstart=\"0\" colstart=\"4\" rowspan=\"1\" colspan=\"1\" >4 </td>\\n  </tr>\\n  <tr>\\n    <td rowstart=\"1\" colstart=\"0\" rowspan=\"1\" colspan=\"1\" >Caption </td>\\n    <td rowstart=\"1\" colstart=\"1\" rowspan=\"1\" colspan=\"1\" >68 </td>\\n    <td rowstart=\"1\" colstart=\"2\" rowspan=\"1\" colspan=\"1\" >Text </td>\\n    <td rowstart=\"1\" colstart=\"3\" rowspan=\"1\" colspan=\"1\" >Text </td>\\n    <td rowstart=\"1\" colstart=\"4\" rowspan=\"1\" colspan=\"1\" >Text </td>\\n  </tr>\\n  <tr>\\n    <td rowstart=\"2\" colstart=\"0\" rowspan=\"1\" colspan=\"1\" >Footnote </td>\\n    <td rowstart=\"2\" colstart=\"1\" rowspan=\"1\" colspan=\"1\" >71 </td>\\n    <td rowstart=\"2\" colstart=\"2\" rowspan=\"1\" colspan=\"1\" >Text </td>\\n    <td rowstart=\"2\" colstart=\"3\" rowspan=\"1\" colspan=\"1\" >Text </td>\\n    <td rowstart=\"2\" colstart=\"4\" rowspan=\"1\" colspan=\"1\" >Text </td>\\n  </tr>\\n  <tr>\\n    <td rowstart=\"3\" colstart=\"0\" rowspan=\"1\" colspan=\"1\" >Formula </td>\\n    <td rowstart=\"3\" colstart=\"1\" rowspan=\"1\" colspan=\"1\" >60 </td>\\n    <td rowstart=\"3\" colstart=\"2\" rowspan=\"1\" colspan=\"1\" >Text </td>\\n    <td rowstart=\"3\" colstart=\"3\" rowspan=\"1\" colspan=\"1\" >Text </td>\\n    <td rowstart=\"3\" colstart=\"4\" rowspan=\"1\" colspan=\"1\" >Text </td>\\n  </tr>\\n  <tr>\\n    <td rowstart=\"4\" colstart=\"0\" rowspan=\"1\" colspan=\"1\" >List-item </td>\\n    <td rowstart=\"4\" colstart=\"1\" rowspan=\"1\" colspan=\"1\" >81 </td>\\n    <td rowstart=\"4\" colstart=\"2\" rowspan=\"1\" colspan=\"1\" >Text </td>\\n    <td rowstart=\"4\" colstart=\"3\" rowspan=\"1\" colspan=\"1\" >82 </td>\\n    <td rowstart=\"4\" colstart=\"4\" rowspan=\"1\" colspan=\"1\" >Text </td>\\n  </tr>\\n  <tr>\\n    <td rowstart=\"5\" colstart=\"0\" rowspan=\"1\" colspan=\"1\" >Page-footer </td>\\n    <td rowstart=\"5\" colstart=\"1\" rowspan=\"1\" colspan=\"1\" >62 </td>\\n    <td rowstart=\"5\" colstart=\"2\" rowspan=\"1\" colspan=\"1\" >62 </td>\\n    <td rowstart=\"5\" colstart=\"3\" rowspan=\"1\" colspan=\"1\" >- </td>\\n    <td rowstart=\"5\" colstart=\"4\" rowspan=\"1\" colspan=\"1\" >- </td>\\n  </tr>\\n  <tr>\\n    <td rowstart=\"6\" colstart=\"0\" rowspan=\"1\" colspan=\"1\" >Page-header </td>\\n    <td rowstart=\"6\" colstart=\"1\" rowspan=\"1\" colspan=\"1\" >72 </td>\\n    <td rowstart=\"6\" colstart=\"2\" rowspan=\"1\" colspan=\"1\" >68 </td>\\n    <td rowstart=\"6\" colstart=\"3\" rowspan=\"1\" colspan=\"1\" >- </td>\\n    <td rowstart=\"6\" colstart=\"4\" rowspan=\"1\" colspan=\"1\" >- </td>\\n  </tr>\\n  <tr>\\n    <td rowstart=\"7\" colstart=\"0\" rowspan=\"1\" colspan=\"1\" >Picture </td>\\n    <td rowstart=\"7\" colstart=\"1\" rowspan=\"1\" colspan=\"1\" >72 </td>\\n    <td rowstart=\"7\" colstart=\"2\" rowspan=\"1\" colspan=\"1\" >72 </td>\\n    <td rowstart=\"7\" colstart=\"3\" rowspan=\"1\" colspan=\"1\" >72 </td>\\n    <td rowstart=\"7\" colstart=\"4\" rowspan=\"1\" colspan=\"1\" >72 </td>\\n  </tr>\\n  <tr>\\n    <td rowstart=\"8\" colstart=\"0\" rowspan=\"1\" colspan=\"1\" >Section-header </td>\\n    <td rowstart=\"8\" colstart=\"1\" rowspan=\"1\" colspan=\"1\" >68 </td>\\n    <td rowstart=\"8\" colstart=\"2\" rowspan=\"1\" colspan=\"1\" >67 </td>\\n    <td rowstart=\"8\" colstart=\"3\" rowspan=\"1\" colspan=\"1\" >69 </td>\\n    <td rowstart=\"8\" colstart=\"4\" rowspan=\"1\" colspan=\"1\" >68 </td>\\n  </tr>\\n  <tr>\\n    <td rowstart=\"9\" colstart=\"0\" rowspan=\"1\" colspan=\"1\" >Table </td>\\n    <td rowstart=\"9\" colstart=\"1\" rowspan=\"1\" colspan=\"1\" >82 </td>\\n    <td rowstart=\"9\" colstart=\"2\" rowspan=\"1\" colspan=\"1\" >83 </td>\\n    <td rowstart=\"9\" colstart=\"3\" rowspan=\"1\" colspan=\"1\" >82 </td>\\n    <td rowstart=\"9\" colstart=\"4\" rowspan=\"1\" colspan=\"1\" >82 </td>\\n  </tr>\\n  <tr>\\n    <td rowstart=\"10\" colstart=\"0\" rowspan=\"1\" colspan=\"1\" >Text </td>\\n    <td rowstart=\"10\" colstart=\"1\" rowspan=\"1\" colspan=\"1\" >85 </td>\\n    <td rowstart=\"10\" colstart=\"2\" rowspan=\"1\" colspan=\"1\" >84 </td>\\n    <td rowstart=\"10\" colstart=\"3\" rowspan=\"1\" colspan=\"1\" >84 </td>\\n    <td rowstart=\"10\" colstart=\"4\" rowspan=\"1\" colspan=\"1\" >84 </td>\\n  </tr>\\n  <tr>\\n    <td rowstart=\"11\" colstart=\"0\" rowspan=\"1\" colspan=\"1\" >Title </td>\\n    <td rowstart=\"11\" colstart=\"1\" rowspan=\"1\" colspan=\"1\" >77 </td>\\n    <td rowstart=\"11\" colstart=\"2\" rowspan=\"1\" colspan=\"1\" >Sec.-h. </td>\\n    <td rowstart=\"11\" colstart=\"3\" rowspan=\"1\" colspan=\"1\" >Sec.-h. </td>\\n    <td rowstart=\"11\" colstart=\"4\" rowspan=\"1\" colspan=\"1\" >Sec.-h. </td>\\n  </tr>\\n  <tr>\\n    <td rowstart=\"12\" colstart=\"0\" rowspan=\"1\" colspan=\"1\" >Overall </td>\\n    <td rowstart=\"12\" colstart=\"1\" rowspan=\"1\" colspan=\"1\" >72 </td>\\n    <td rowstart=\"12\" colstart=\"2\" rowspan=\"1\" colspan=\"1\" >73 </td>\\n    <td rowstart=\"12\" colstart=\"3\" rowspan=\"1\" colspan=\"1\" >78 </td>\\n    <td rowstart=\"12\" colstart=\"4\" rowspan=\"1\" colspan=\"1\" >77 </td>\\n  </tr>\\n</table>',\n",
       " '<table>\\n  <tr>\\n    <td rowstart=\"0\" colstart=\"0\" rowspan=\"1\" colspan=\"1\" >Class-count </td>\\n    <td rowstart=\"0\" colstart=\"1\" rowspan=\"1\" colspan=\"2\" >11 </td>\\n    <td rowstart=\"0\" colstart=\"3\" rowspan=\"1\" colspan=\"2\" >5 </td>\\n  </tr>\\n  <tr>\\n    <td rowstart=\"1\" colstart=\"0\" rowspan=\"1\" colspan=\"1\" >Split </td>\\n    <td rowstart=\"1\" colstart=\"1\" rowspan=\"1\" colspan=\"1\" >Doc </td>\\n    <td rowstart=\"1\" colstart=\"2\" rowspan=\"1\" colspan=\"1\" >Page </td>\\n    <td rowstart=\"1\" colstart=\"3\" rowspan=\"1\" colspan=\"1\" >Doc </td>\\n    <td rowstart=\"1\" colstart=\"4\" rowspan=\"1\" colspan=\"1\" >Page </td>\\n  </tr>\\n  <tr>\\n    <td rowstart=\"2\" colstart=\"0\" rowspan=\"1\" colspan=\"1\" >Caption </td>\\n    <td rowstart=\"2\" colstart=\"1\" rowspan=\"1\" colspan=\"1\" >68 </td>\\n    <td rowstart=\"2\" colstart=\"2\" rowspan=\"1\" colspan=\"1\" >83 </td>\\n    <td rowstart=\"2\" colstart=\"3\" rowspan=\"1\" colspan=\"1\" >&nbsp;</td>\\n    <td rowstart=\"2\" colstart=\"4\" rowspan=\"1\" colspan=\"1\" >&nbsp;</td>\\n  </tr>\\n  <tr>\\n    <td rowstart=\"3\" colstart=\"0\" rowspan=\"1\" colspan=\"1\" >Footnote </td>\\n    <td rowstart=\"3\" colstart=\"1\" rowspan=\"1\" colspan=\"1\" >71 </td>\\n    <td rowstart=\"3\" colstart=\"2\" rowspan=\"1\" colspan=\"1\" >84 </td>\\n    <td rowstart=\"3\" colstart=\"3\" rowspan=\"1\" colspan=\"1\" >&nbsp;</td>\\n    <td rowstart=\"3\" colstart=\"4\" rowspan=\"1\" colspan=\"1\" >&nbsp;</td>\\n  </tr>\\n  <tr>\\n    <td rowstart=\"4\" colstart=\"0\" rowspan=\"1\" colspan=\"1\" >Formula </td>\\n    <td rowstart=\"4\" colstart=\"1\" rowspan=\"1\" colspan=\"1\" >60 </td>\\n    <td rowstart=\"4\" colstart=\"2\" rowspan=\"1\" colspan=\"1\" >66 </td>\\n    <td rowstart=\"4\" colstart=\"3\" rowspan=\"1\" colspan=\"1\" >&nbsp;</td>\\n    <td rowstart=\"4\" colstart=\"4\" rowspan=\"1\" colspan=\"1\" >&nbsp;</td>\\n  </tr>\\n  <tr>\\n    <td rowstart=\"5\" colstart=\"0\" rowspan=\"1\" colspan=\"1\" >List-item </td>\\n    <td rowstart=\"5\" colstart=\"1\" rowspan=\"1\" colspan=\"1\" >81 </td>\\n    <td rowstart=\"5\" colstart=\"2\" rowspan=\"1\" colspan=\"1\" >88 </td>\\n    <td rowstart=\"5\" colstart=\"3\" rowspan=\"1\" colspan=\"1\" >82 </td>\\n    <td rowstart=\"5\" colstart=\"4\" rowspan=\"1\" colspan=\"1\" >88 </td>\\n  </tr>\\n  <tr>\\n    <td rowstart=\"6\" colstart=\"0\" rowspan=\"1\" colspan=\"1\" >Page-footer </td>\\n    <td rowstart=\"6\" colstart=\"1\" rowspan=\"1\" colspan=\"1\" >62 </td>\\n    <td rowstart=\"6\" colstart=\"2\" rowspan=\"1\" colspan=\"1\" >89 </td>\\n    <td rowstart=\"6\" colstart=\"3\" rowspan=\"1\" colspan=\"1\" >&nbsp;</td>\\n    <td rowstart=\"6\" colstart=\"4\" rowspan=\"1\" colspan=\"1\" >&nbsp;</td>\\n  </tr>\\n  <tr>\\n    <td rowstart=\"7\" colstart=\"0\" rowspan=\"1\" colspan=\"1\" >Page-header </td>\\n    <td rowstart=\"7\" colstart=\"1\" rowspan=\"1\" colspan=\"1\" >72 </td>\\n    <td rowstart=\"7\" colstart=\"2\" rowspan=\"1\" colspan=\"1\" >90 </td>\\n    <td rowstart=\"7\" colstart=\"3\" rowspan=\"1\" colspan=\"1\" >&nbsp;</td>\\n    <td rowstart=\"7\" colstart=\"4\" rowspan=\"1\" colspan=\"1\" >&nbsp;</td>\\n  </tr>\\n  <tr>\\n    <td rowstart=\"8\" colstart=\"0\" rowspan=\"1\" colspan=\"1\" >Picture </td>\\n    <td rowstart=\"8\" colstart=\"1\" rowspan=\"1\" colspan=\"1\" >72 </td>\\n    <td rowstart=\"8\" colstart=\"2\" rowspan=\"1\" colspan=\"1\" >82 </td>\\n    <td rowstart=\"8\" colstart=\"3\" rowspan=\"1\" colspan=\"1\" >72 </td>\\n    <td rowstart=\"8\" colstart=\"4\" rowspan=\"1\" colspan=\"1\" >82 </td>\\n  </tr>\\n  <tr>\\n    <td rowstart=\"9\" colstart=\"0\" rowspan=\"1\" colspan=\"1\" >Section-header </td>\\n    <td rowstart=\"9\" colstart=\"1\" rowspan=\"1\" colspan=\"1\" >68 </td>\\n    <td rowstart=\"9\" colstart=\"2\" rowspan=\"1\" colspan=\"1\" >83 </td>\\n    <td rowstart=\"9\" colstart=\"3\" rowspan=\"1\" colspan=\"1\" >69 </td>\\n    <td rowstart=\"9\" colstart=\"4\" rowspan=\"1\" colspan=\"1\" >83 </td>\\n  </tr>\\n  <tr>\\n    <td rowstart=\"10\" colstart=\"0\" rowspan=\"1\" colspan=\"1\" >Table </td>\\n    <td rowstart=\"10\" colstart=\"1\" rowspan=\"1\" colspan=\"1\" >82 </td>\\n    <td rowstart=\"10\" colstart=\"2\" rowspan=\"1\" colspan=\"1\" >89 </td>\\n    <td rowstart=\"10\" colstart=\"3\" rowspan=\"1\" colspan=\"1\" >82 </td>\\n    <td rowstart=\"10\" colstart=\"4\" rowspan=\"1\" colspan=\"1\" >90 </td>\\n  </tr>\\n  <tr>\\n    <td rowstart=\"11\" colstart=\"0\" rowspan=\"1\" colspan=\"1\" >Text </td>\\n    <td rowstart=\"11\" colstart=\"1\" rowspan=\"1\" colspan=\"1\" >85 </td>\\n    <td rowstart=\"11\" colstart=\"2\" rowspan=\"1\" colspan=\"1\" >91 </td>\\n    <td rowstart=\"11\" colstart=\"3\" rowspan=\"1\" colspan=\"1\" >84 </td>\\n    <td rowstart=\"11\" colstart=\"4\" rowspan=\"1\" colspan=\"1\" >90 </td>\\n  </tr>\\n  <tr>\\n    <td rowstart=\"12\" colstart=\"0\" rowspan=\"1\" colspan=\"1\" >Title </td>\\n    <td rowstart=\"12\" colstart=\"1\" rowspan=\"1\" colspan=\"1\" >77 </td>\\n    <td rowstart=\"12\" colstart=\"2\" rowspan=\"1\" colspan=\"1\" >81 </td>\\n    <td rowstart=\"12\" colstart=\"3\" rowspan=\"1\" colspan=\"1\" >&nbsp;</td>\\n    <td rowstart=\"12\" colstart=\"4\" rowspan=\"1\" colspan=\"1\" >&nbsp;</td>\\n  </tr>\\n  <tr>\\n    <td rowstart=\"13\" colstart=\"0\" rowspan=\"1\" colspan=\"1\" >All </td>\\n    <td rowstart=\"13\" colstart=\"1\" rowspan=\"1\" colspan=\"1\" >72 </td>\\n    <td rowstart=\"13\" colstart=\"2\" rowspan=\"1\" colspan=\"1\" >84 </td>\\n    <td rowstart=\"13\" colstart=\"3\" rowspan=\"1\" colspan=\"1\" >78 </td>\\n    <td rowstart=\"13\" colstart=\"4\" rowspan=\"1\" colspan=\"1\" >87 </td>\\n  </tr>\\n</table>',\n",
       " '<table>\\n  <tr>\\n    <th rowstart=\"0\" colstart=\"0\" rowspan=\"1\" colspan=\"1\" style=\"text-align: center;\">&nbsp;</th>\\n    <th rowstart=\"0\" colstart=\"1\" rowspan=\"1\" colspan=\"1\" style=\"text-align: center;\">&nbsp;</th>\\n    <td rowstart=\"0\" colstart=\"2\" rowspan=\"1\" colspan=\"3\" >Testing on </td>\\n  </tr>\\n  <tr>\\n    <td rowstart=\"1\" colstart=\"0\" rowspan=\"1\" colspan=\"1\" >Training on </td>\\n    <td rowstart=\"1\" colstart=\"1\" rowspan=\"1\" colspan=\"1\" >labels </td>\\n    <td rowstart=\"1\" colstart=\"2\" rowspan=\"1\" colspan=\"1\" >PLN </td>\\n    <td rowstart=\"1\" colstart=\"3\" rowspan=\"1\" colspan=\"1\" >DB </td>\\n    <td rowstart=\"1\" colstart=\"4\" rowspan=\"1\" colspan=\"1\" >DLN </td>\\n  </tr>\\n  <tr>\\n    <td rowstart=\"2\" colstart=\"0\" rowspan=\"1\" colspan=\"1\" >PubLayNet (PLN) </td>\\n    <td rowstart=\"2\" colstart=\"1\" rowspan=\"1\" colspan=\"1\" >Figure Sec-header Table Text total </td>\\n    <td rowstart=\"2\" colstart=\"2\" rowspan=\"1\" colspan=\"1\" >96 87 95 96 93 </td>\\n    <td rowstart=\"2\" colstart=\"3\" rowspan=\"1\" colspan=\"1\" >43 - 24 - 34 </td>\\n    <td rowstart=\"2\" colstart=\"4\" rowspan=\"1\" colspan=\"1\" >23 32 49 42 30 </td>\\n  </tr>\\n  <tr>\\n    <td rowstart=\"3\" colstart=\"0\" rowspan=\"1\" colspan=\"1\" >DocBank (DB) </td>\\n    <td rowstart=\"3\" colstart=\"1\" rowspan=\"1\" colspan=\"1\" >Figure Table total </td>\\n    <td rowstart=\"3\" colstart=\"2\" rowspan=\"1\" colspan=\"1\" >77 19 48 </td>\\n    <td rowstart=\"3\" colstart=\"3\" rowspan=\"1\" colspan=\"1\" >71 65 68 </td>\\n    <td rowstart=\"3\" colstart=\"4\" rowspan=\"1\" colspan=\"1\" >31 22 27 </td>\\n  </tr>\\n  <tr>\\n    <td rowstart=\"4\" colstart=\"0\" rowspan=\"1\" colspan=\"1\" >DocLayNet (DLN) </td>\\n    <td rowstart=\"4\" colstart=\"1\" rowspan=\"1\" colspan=\"1\" >Figure Sec-header Table Text total </td>\\n    <td rowstart=\"4\" colstart=\"2\" rowspan=\"1\" colspan=\"1\" >67 53 87 77 59 </td>\\n    <td rowstart=\"4\" colstart=\"3\" rowspan=\"1\" colspan=\"1\" >51 - 43 - 47 </td>\\n    <td rowstart=\"4\" colstart=\"4\" rowspan=\"1\" colspan=\"1\" >72 68 82 84 78 </td>\\n  </tr>\\n</table>',\n",
       " '<table>\\n  <tr>\\n    <th rowstart=\"0\" colstart=\"0\" rowspan=\"1\" colspan=\"1\" style=\"text-align: center;\">&nbsp;</th>\\n    <th rowstart=\"0\" colstart=\"1\" rowspan=\"1\" colspan=\"1\" style=\"text-align: center;\">&nbsp;</th>\\n    <td rowstart=\"0\" colstart=\"2\" rowspan=\"1\" colspan=\"2\" >component </td>\\n  </tr>\\n  <tr>\\n    <td rowstart=\"1\" colstart=\"0\" rowspan=\"1\" colspan=\"1\" >&nbsp;</td>\\n    <td rowstart=\"1\" colstart=\"1\" rowspan=\"1\" colspan=\"1\" >&nbsp;</td>\\n    <td rowstart=\"1\" colstart=\"2\" rowspan=\"1\" colspan=\"1\" >worker </td>\\n    <td rowstart=\"1\" colstart=\"3\" rowspan=\"1\" colspan=\"1\" >ML model </td>\\n  </tr>\\n  <tr>\\n    <td rowstart=\"2\" colstart=\"0\" rowspan=\"1\" colspan=\"1\" >Profile A </td>\\n    <td rowstart=\"2\" colstart=\"1\" rowspan=\"1\" colspan=\"1\" >Memory CPU Replica ratio </td>\\n    <td rowstart=\"2\" colstart=\"2\" rowspan=\"1\" colspan=\"1\" >450 MB 0.4 cores 1 </td>\\n    <td rowstart=\"2\" colstart=\"3\" rowspan=\"1\" colspan=\"1\" >500 MB 0.7 cores 1 </td>\\n  </tr>\\n  <tr>\\n    <td rowstart=\"3\" colstart=\"0\" rowspan=\"1\" colspan=\"1\" >Profile B </td>\\n    <td rowstart=\"3\" colstart=\"1\" rowspan=\"1\" colspan=\"1\" >Memory CPU Replica ratio </td>\\n    <td rowstart=\"3\" colstart=\"2\" rowspan=\"1\" colspan=\"1\" >700 MB 1.2 cores 1 </td>\\n    <td rowstart=\"3\" colstart=\"3\" rowspan=\"1\" colspan=\"1\" >500 MB 0.7 cores 4 </td>\\n  </tr>\\n</table>',\n",
       " '<table>\\n  <tr>\\n    <td rowstart=\"0\" colstart=\"0\" rowspan=\"1\" colspan=\"1\" >profile </td>\\n    <td rowstart=\"0\" colstart=\"1\" rowspan=\"1\" colspan=\"1\" >system state </td>\\n    <td rowstart=\"0\" colstart=\"2\" rowspan=\"1\" colspan=\"1\" >distribution scheme document-level </td>\\n    <td rowstart=\"0\" colstart=\"3\" rowspan=\"1\" colspan=\"1\" >page-level </td>\\n  </tr>\\n  <tr>\\n    <td rowstart=\"1\" colstart=\"0\" rowspan=\"1\" colspan=\"1\" >A </td>\\n    <td rowstart=\"1\" colstart=\"1\" rowspan=\"1\" colspan=\"1\" >idle busy </td>\\n    <td rowstart=\"1\" colstart=\"2\" rowspan=\"1\" colspan=\"1\" >32.6 ± 1.1 114.9 ± 17.5 </td>\\n    <td rowstart=\"1\" colstart=\"3\" rowspan=\"1\" colspan=\"1\" >26.3 ± 0.9 248.1 ± 17.3 </td>\\n  </tr>\\n  <tr>\\n    <td rowstart=\"2\" colstart=\"0\" rowspan=\"1\" colspan=\"1\" >B </td>\\n    <td rowstart=\"2\" colstart=\"1\" rowspan=\"1\" colspan=\"1\" >idle busy </td>\\n    <td rowstart=\"2\" colstart=\"2\" rowspan=\"1\" colspan=\"1\" >32.6 ± 0.2 109.6 ± 47.7 </td>\\n    <td rowstart=\"2\" colstart=\"3\" rowspan=\"1\" colspan=\"1\" >25.7 ± 0.7 220.4 ± 34.2 </td>\\n  </tr>\\n</table>']"
      ]
     },
     "execution_count": 230,
     "metadata": {},
     "output_type": "execute_result"
    }
   ],
   "source": [
    "tables = []\n",
    "for output_file in Path(OUTPUT_DIR).rglob(\"json*.zip\"):\n",
    "    with ZipFile(output_file) as archive:\n",
    "        all_files = archive.namelist()\n",
    "        for name in all_files:\n",
    "            if not name.endswith(\".json\"):\n",
    "                continue\n",
    "            \n",
    "            basename = name.rstrip('.json')\n",
    "            doc_jsondata = json.loads(archive.read(f\"{basename}.json\"))\n",
    "\n",
    "            tables += get_document_tables(doc_jsondata)\n",
    "tables"
   ]
  },
  {
   "cell_type": "code",
   "execution_count": 231,
   "metadata": {},
   "outputs": [
    {
     "name": "stderr",
     "output_type": "stream",
     "text": [
      "Pushing records to Argilla...:   0%|          | 0/1 [00:00<?, ?it/s]"
     ]
    },
    {
     "name": "stderr",
     "output_type": "stream",
     "text": [
      "Pushing records to Argilla...: 100%|██████████| 1/1 [00:00<00:00, 29.92it/s]\n"
     ]
    }
   ],
   "source": [
    "records = [\n",
    "    rg.FeedbackRecord(\n",
    "        fields = {\"content\": table},\n",
    "    ) for table in tables\n",
    "]\n",
    "rg_llm_qna_ds.add_records(records)"
   ]
  },
  {
   "cell_type": "markdown",
   "metadata": {},
   "source": [
    "##### Extracting figures\n",
    "\n",
    "Deep Search allows for [extracting figures from PDF-files](https://github.com/DS4SD/deepsearch-examples/blob/main/examples/document_conversion_extract_figures/extract_figures.py). We will be using this to extract figures from the PDF-files and add them to the `FeedbackDataset`. We will be using the converted documents to do this. First, we will define a function that loads the converted documents and extracts the figures from them. Next, we will add the tables to the `FeedbackDataset` by using the `add_records`-method."
   ]
  },
  {
   "cell_type": "code",
   "execution_count": 232,
   "metadata": {},
   "outputs": [
    {
     "name": "stderr",
     "output_type": "stream",
     "text": [
      "huggingface/tokenizers: The current process just got forked, after parallelism has already been used. Disabling parallelism to avoid deadlocks...\n",
      "To disable this warning, you can either:\n",
      "\t- Avoid using `tokenizers` before the fork if possible\n",
      "\t- Explicitly set the environment variable TOKENIZERS_PARALLELISM=(true | false)\n",
      "huggingface/tokenizers: The current process just got forked, after parallelism has already been used. Disabling parallelism to avoid deadlocks...\n",
      "To disable this warning, you can either:\n",
      "\t- Avoid using `tokenizers` before the fork if possible\n",
      "\t- Explicitly set the environment variable TOKENIZERS_PARALLELISM=(true | false)\n",
      "huggingface/tokenizers: The current process just got forked, after parallelism has already been used. Disabling parallelism to avoid deadlocks...\n",
      "To disable this warning, you can either:\n",
      "\t- Avoid using `tokenizers` before the fork if possible\n",
      "\t- Explicitly set the environment variable TOKENIZERS_PARALLELISM=(true | false)\n",
      "huggingface/tokenizers: The current process just got forked, after parallelism has already been used. Disabling parallelism to avoid deadlocks...\n",
      "To disable this warning, you can either:\n",
      "\t- Avoid using `tokenizers` before the fork if possible\n",
      "\t- Explicitly set the environment variable TOKENIZERS_PARALLELISM=(true | false)\n",
      "huggingface/tokenizers: The current process just got forked, after parallelism has already been used. Disabling parallelism to avoid deadlocks...\n",
      "To disable this warning, you can either:\n",
      "\t- Avoid using `tokenizers` before the fork if possible\n",
      "\t- Explicitly set the environment variable TOKENIZERS_PARALLELISM=(true | false)\n",
      "huggingface/tokenizers: The current process just got forked, after parallelism has already been used. Disabling parallelism to avoid deadlocks...\n",
      "To disable this warning, you can either:\n",
      "\t- Avoid using `tokenizers` before the fork if possible\n",
      "\t- Explicitly set the environment variable TOKENIZERS_PARALLELISM=(true | false)\n",
      "huggingface/tokenizers: The current process just got forked, after parallelism has already been used. Disabling parallelism to avoid deadlocks...\n",
      "To disable this warning, you can either:\n",
      "\t- Avoid using `tokenizers` before the fork if possible\n",
      "\t- Explicitly set the environment variable TOKENIZERS_PARALLELISM=(true | false)\n",
      "huggingface/tokenizers: The current process just got forked, after parallelism has already been used. Disabling parallelism to avoid deadlocks...\n",
      "To disable this warning, you can either:\n",
      "\t- Avoid using `tokenizers` before the fork if possible\n",
      "\t- Explicitly set the environment variable TOKENIZERS_PARALLELISM=(true | false)\n",
      "huggingface/tokenizers: The current process just got forked, after parallelism has already been used. Disabling parallelism to avoid deadlocks...\n",
      "To disable this warning, you can either:\n",
      "\t- Avoid using `tokenizers` before the fork if possible\n",
      "\t- Explicitly set the environment variable TOKENIZERS_PARALLELISM=(true | false)\n",
      "huggingface/tokenizers: The current process just got forked, after parallelism has already been used. Disabling parallelism to avoid deadlocks...\n",
      "To disable this warning, you can either:\n",
      "\t- Avoid using `tokenizers` before the fork if possible\n",
      "\t- Explicitly set the environment variable TOKENIZERS_PARALLELISM=(true | false)\n",
      "huggingface/tokenizers: The current process just got forked, after parallelism has already been used. Disabling parallelism to avoid deadlocks...\n",
      "To disable this warning, you can either:\n",
      "\t- Avoid using `tokenizers` before the fork if possible\n",
      "\t- Explicitly set the environment variable TOKENIZERS_PARALLELISM=(true | false)\n",
      "huggingface/tokenizers: The current process just got forked, after parallelism has already been used. Disabling parallelism to avoid deadlocks...\n",
      "To disable this warning, you can either:\n",
      "\t- Avoid using `tokenizers` before the fork if possible\n",
      "\t- Explicitly set the environment variable TOKENIZERS_PARALLELISM=(true | false)\n",
      "huggingface/tokenizers: The current process just got forked, after parallelism has already been used. Disabling parallelism to avoid deadlocks...\n",
      "To disable this warning, you can either:\n",
      "\t- Avoid using `tokenizers` before the fork if possible\n",
      "\t- Explicitly set the environment variable TOKENIZERS_PARALLELISM=(true | false)\n",
      "huggingface/tokenizers: The current process just got forked, after parallelism has already been used. Disabling parallelism to avoid deadlocks...\n",
      "To disable this warning, you can either:\n",
      "\t- Avoid using `tokenizers` before the fork if possible\n",
      "\t- Explicitly set the environment variable TOKENIZERS_PARALLELISM=(true | false)\n",
      "huggingface/tokenizers: The current process just got forked, after parallelism has already been used. Disabling parallelism to avoid deadlocks...\n",
      "To disable this warning, you can either:\n",
      "\t- Avoid using `tokenizers` before the fork if possible\n",
      "\t- Explicitly set the environment variable TOKENIZERS_PARALLELISM=(true | false)\n",
      "huggingface/tokenizers: The current process just got forked, after parallelism has already been used. Disabling parallelism to avoid deadlocks...\n",
      "To disable this warning, you can either:\n",
      "\t- Avoid using `tokenizers` before the fork if possible\n",
      "\t- Explicitly set the environment variable TOKENIZERS_PARALLELISM=(true | false)\n",
      "huggingface/tokenizers: The current process just got forked, after parallelism has already been used. Disabling parallelism to avoid deadlocks...\n",
      "To disable this warning, you can either:\n",
      "\t- Avoid using `tokenizers` before the fork if possible\n",
      "\t- Explicitly set the environment variable TOKENIZERS_PARALLELISM=(true | false)\n",
      "huggingface/tokenizers: The current process just got forked, after parallelism has already been used. Disabling parallelism to avoid deadlocks...\n",
      "To disable this warning, you can either:\n",
      "\t- Avoid using `tokenizers` before the fork if possible\n",
      "\t- Explicitly set the environment variable TOKENIZERS_PARALLELISM=(true | false)\n",
      "huggingface/tokenizers: The current process just got forked, after parallelism has already been used. Disabling parallelism to avoid deadlocks...\n",
      "To disable this warning, you can either:\n",
      "\t- Avoid using `tokenizers` before the fork if possible\n",
      "\t- Explicitly set the environment variable TOKENIZERS_PARALLELISM=(true | false)\n",
      "huggingface/tokenizers: The current process just got forked, after parallelism has already been used. Disabling parallelism to avoid deadlocks...\n",
      "To disable this warning, you can either:\n",
      "\t- Avoid using `tokenizers` before the fork if possible\n",
      "\t- Explicitly set the environment variable TOKENIZERS_PARALLELISM=(true | false)\n",
      "huggingface/tokenizers: The current process just got forked, after parallelism has already been used. Disabling parallelism to avoid deadlocks...\n",
      "To disable this warning, you can either:\n",
      "\t- Avoid using `tokenizers` before the fork if possible\n",
      "\t- Explicitly set the environment variable TOKENIZERS_PARALLELISM=(true | false)\n",
      "huggingface/tokenizers: The current process just got forked, after parallelism has already been used. Disabling parallelism to avoid deadlocks...\n",
      "To disable this warning, you can either:\n",
      "\t- Avoid using `tokenizers` before the fork if possible\n",
      "\t- Explicitly set the environment variable TOKENIZERS_PARALLELISM=(true | false)\n",
      "huggingface/tokenizers: The current process just got forked, after parallelism has already been used. Disabling parallelism to avoid deadlocks...\n",
      "To disable this warning, you can either:\n",
      "\t- Avoid using `tokenizers` before the fork if possible\n",
      "\t- Explicitly set the environment variable TOKENIZERS_PARALLELISM=(true | false)\n",
      "huggingface/tokenizers: The current process just got forked, after parallelism has already been used. Disabling parallelism to avoid deadlocks...\n",
      "To disable this warning, you can either:\n",
      "\t- Avoid using `tokenizers` before the fork if possible\n",
      "\t- Explicitly set the environment variable TOKENIZERS_PARALLELISM=(true | false)\n",
      "huggingface/tokenizers: The current process just got forked, after parallelism has already been used. Disabling parallelism to avoid deadlocks...\n",
      "To disable this warning, you can either:\n",
      "\t- Avoid using `tokenizers` before the fork if possible\n",
      "\t- Explicitly set the environment variable TOKENIZERS_PARALLELISM=(true | false)\n",
      "huggingface/tokenizers: The current process just got forked, after parallelism has already been used. Disabling parallelism to avoid deadlocks...\n",
      "To disable this warning, you can either:\n",
      "\t- Avoid using `tokenizers` before the fork if possible\n",
      "\t- Explicitly set the environment variable TOKENIZERS_PARALLELISM=(true | false)\n"
     ]
    }
   ],
   "source": [
    "def crop_pdf_to_image(\n",
    "    pdf_filename: Path, page: int, bbox: list, output_filename: Path, resolution=72\n",
    "):\n",
    "    \"\"\"\n",
    "    Invoke the pdftoppm executable for cropping the given bounding box from the PDF doucment\n",
    "\n",
    "    Parameters\n",
    "    ----------\n",
    "    pdf_filename : Path\n",
    "        Input PDF file.\n",
    "    page : int\n",
    "        Page number where the bounding box is located.\n",
    "    bbox : List[int]\n",
    "        Bounding box to extract, in the format [x0, y0, x1, y1], where the origin is the top-left corner.\n",
    "    output_filename : Path\n",
    "        Output filename where the PNG image is saved to.\n",
    "    resolution : int, Default=72\n",
    "        Resolution of the extracted image.\n",
    "    \"\"\"\n",
    "    cmd = [\n",
    "        \"pdftoppm\",\n",
    "        \"-png\",\n",
    "        \"-singlefile\",\n",
    "        \"-f\",\n",
    "        str(page),\n",
    "        \"-l\",\n",
    "        str(page),\n",
    "        \"-cropbox\",\n",
    "        \"-r\",\n",
    "        str(resolution),\n",
    "        \"-x\",\n",
    "        str(bbox[0]),\n",
    "        \"-y\",\n",
    "        str(bbox[1]),\n",
    "        \"-W\",\n",
    "        str(bbox[2] - bbox[0]),\n",
    "        \"-H\",\n",
    "        str(bbox[3] - bbox[1]),\n",
    "        str(pdf_filename),\n",
    "        str(output_filename),\n",
    "    ]\n",
    "    try:\n",
    "        check_call(cmd)\n",
    "    except CalledProcessError as cpe:\n",
    "        raise RuntimeError(\n",
    "            f\"PDFTOPPM PROCESSING ERROR. Exited with: {cpe.returncode}\"\n",
    "        ) from cpe\n",
    "\n",
    "def extract_figures_from_json_doc(\n",
    "    pdf_filename: Path, document: dict, output_dir: Path, resolution: int\n",
    "):\n",
    "    \"\"\"\n",
    "    Iterate through the converted document format and extract the figures as PNG files\n",
    "\n",
    "    Parameters\n",
    "    ----------\n",
    "    pdf_filename : Path\n",
    "        Input PDF file.\n",
    "    document :\n",
    "        The converted document from Deep Search.\n",
    "    bbox : List[int]\n",
    "        Bounding box to extract, in the format [x0, y0, x1, y1], where the origin is the top-left corner.\n",
    "    output_dir : Path\n",
    "        Output directory where all extracted images will be saved.\n",
    "    resolution : int\n",
    "        Resolution of the extracted image.\n",
    "    \"\"\"\n",
    "\n",
    "    output_base = output_dir / document[\"file-info\"][\"filename\"].rstrip(\".pdf\").rstrip(\n",
    "        \".PDF\"\n",
    "    )\n",
    "    page_counters = {}\n",
    "    # Iterate through all the figures identified in the converted document\n",
    "    for figure in document.get(\"figures\", []):\n",
    "        prov = figure[\"prov\"][0]\n",
    "        page = prov[\"page\"]\n",
    "        page_counters.setdefault(page, 0)\n",
    "        page_counters[page] += 1\n",
    "\n",
    "        # Retrieve the page dimensions, needed for shifting the coordinates of the bounding boxes\n",
    "        page_dims = next(\n",
    "            (dims for dims in document[\"page-dimensions\"] if dims[\"page\"] == page), None\n",
    "        )\n",
    "        if page_dims is None:\n",
    "            continue\n",
    "\n",
    "        # Convert the Deep Search bounding box in the coordinate frame used to extract images.\n",
    "        # From having the origin in the bottom-left corner, to the top-left corner\n",
    "        # The bounding box is expanded to the closest integer coordinates, because of the format\n",
    "        # requirements of the tools used in the extraction.\n",
    "        bbox = [\n",
    "            math.floor(prov[\"bbox\"][0]),\n",
    "            math.floor(page_dims[\"height\"] - prov[\"bbox\"][3]),\n",
    "            math.ceil(prov[\"bbox\"][2]),\n",
    "            math.ceil(page_dims[\"height\"] - prov[\"bbox\"][1]),\n",
    "        ]\n",
    "\n",
    "        # Extract the bounding box\n",
    "        output_filename = output_base.with_name(\n",
    "            f\"{output_base.name}_{page}_{page_counters[page]}\"\n",
    "        )\n",
    "        crop_pdf_to_image(\n",
    "            pdf_filename, page, bbox, output_filename, resolution=resolution\n",
    "        )\n",
    "\n",
    "for pdf_filename in glob.glob(\"data/making-most-of-markdown/pdf/*.pdf\"):\n",
    "    for output_file in Path(OUTPUT_DIR).rglob(\"json*.zip\"):\n",
    "        with ZipFile(output_file) as archive:\n",
    "            all_files = archive.namelist()\n",
    "            for name in all_files:\n",
    "                if name.endswith(\".json\"):\n",
    "                    document = json.loads(archive.read(name))\n",
    "                    extract_figures_from_json_doc(\n",
    "                        pdf_filename, document, OUTPUT_DIR, 72\n",
    "                    )"
   ]
  },
  {
   "cell_type": "markdown",
   "metadata": {},
   "source": [
    "We will now reuse the multi-modal function `image_to_dataurl` to convert these `.png` files to DataURLs. We will also add a question to ask the user to describe the image."
   ]
  },
  {
   "cell_type": "code",
   "execution_count": 233,
   "metadata": {},
   "outputs": [
    {
     "name": "stderr",
     "output_type": "stream",
     "text": [
      "Pushing records to Argilla...:   0%|          | 0/1 [00:00<?, ?it/s]"
     ]
    },
    {
     "name": "stderr",
     "output_type": "stream",
     "text": [
      "Pushing records to Argilla...: 100%|██████████| 1/1 [00:00<00:00,  9.66it/s]\n"
     ]
    }
   ],
   "source": [
    "files = glob.glob(\"data/making-most-of-markdown/pdf/processed/*.png\")\n",
    "records = [\n",
    "    rg.FeedbackRecord(\n",
    "        fields = {\"content\": image_to_dataurl(file, file_type=\"png\")}\n",
    "    ) for file in files\n",
    "]\n",
    "rg_llm_qna_ds.add_records(records)"
   ]
  }
 ],
 "metadata": {
  "kernelspec": {
   "display_name": ".venv",
   "language": "python",
   "name": "python3"
  },
  "language_info": {
   "codemirror_mode": {
    "name": "ipython",
    "version": 3
   },
   "file_extension": ".py",
   "mimetype": "text/x-python",
   "name": "python",
   "nbconvert_exporter": "python",
   "pygments_lexer": "ipython3",
   "version": "3.10.6"
  }
 },
 "nbformat": 4,
 "nbformat_minor": 2
}
