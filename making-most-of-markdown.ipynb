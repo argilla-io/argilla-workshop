{
 "cells": [
  {
   "cell_type": "markdown",
   "metadata": {},
   "source": [
    "# Making the Most of Markdown within Argilla TextFields\n",
    "\n",
    "## Introduction\n",
    "\n",
    "As you may have noticed, Argilla supports Markdown within its text fields. This allows you to add formatting to your text, such as **bold** or *italic* text, or even [links](https://www.google.com). Additionally, this also allows you to add all HTML content, such as images, videos, and even iframes, which is a powerfull tool to have at your disposal.\n",
    "\n",
    "Within this notebook, we will go over the basics of Markdown, and how to use it within Argilla.\n",
    "\n",
    "- multi-modality\n",
    "    - image\n",
    "    - video\n",
    "    - audio\n",
    "- table\n",
    "- exploting displacy\n",
    "  - ner\n",
    "  - relationships"
   ]
  },
  {
   "cell_type": "markdown",
   "metadata": {},
   "source": [
    "## Installing Dependencies\n",
    "\n",
    "We will be working with builtin Python libraries, as well as the `argilla` library. Additionally, we will use a unstructored document processor with a externally callable public API (to avoid overhead). This tool is called [IBM Deep Search](https://github.com/DS4SD/deepsearch-toolkit) but for a fully open source alternative, I recommend taking a look at [Unstructured](https://unstructured.io). To install the latter, run the following command:"
   ]
  },
  {
   "cell_type": "code",
   "execution_count": 4,
   "metadata": {},
   "outputs": [
    {
     "name": "stdout",
     "output_type": "stream",
     "text": [
      "Looking in indexes: https://pypi.org/simple, https://dmrepository.datamaran.com:8443/repository/dmPYTHON/simple\n",
      "Requirement already satisfied: argilla==1.17 in ./.venv/lib/python3.10/site-packages (1.17.0)\n",
      "Requirement already satisfied: monotonic in ./.venv/lib/python3.10/site-packages (from argilla==1.17) (1.6)\n",
      "Requirement already satisfied: packaging>=20.0 in ./.venv/lib/python3.10/site-packages (from argilla==1.17) (23.2)\n",
      "Requirement already satisfied: tqdm>=4.27.0 in ./.venv/lib/python3.10/site-packages (from argilla==1.17) (4.66.1)\n",
      "Requirement already satisfied: pandas<2.0.0,>=1.0.0 in ./.venv/lib/python3.10/site-packages (from argilla==1.17) (1.5.3)\n",
      "Requirement already satisfied: httpx<0.24,>=0.15 in ./.venv/lib/python3.10/site-packages (from argilla==1.17) (0.23.3)\n",
      "Requirement already satisfied: pydantic<2.0,>=1.10.7 in ./.venv/lib/python3.10/site-packages (from argilla==1.17) (1.10.13)\n",
      "Requirement already satisfied: backoff in ./.venv/lib/python3.10/site-packages (from argilla==1.17) (2.2.1)\n",
      "Requirement already satisfied: wrapt<1.15,>=1.13 in ./.venv/lib/python3.10/site-packages (from argilla==1.17) (1.14.1)\n",
      "Requirement already satisfied: deprecated~=1.2.0 in ./.venv/lib/python3.10/site-packages (from argilla==1.17) (1.2.14)\n",
      "Requirement already satisfied: rich!=13.1.0 in ./.venv/lib/python3.10/site-packages (from argilla==1.17) (13.0.1)\n",
      "Requirement already satisfied: typer<0.8.0,>=0.6.0 in ./.venv/lib/python3.10/site-packages (from argilla==1.17) (0.7.0)\n",
      "Requirement already satisfied: numpy<1.24.0 in ./.venv/lib/python3.10/site-packages (from argilla==1.17) (1.23.5)\n",
      "Requirement already satisfied: sniffio in ./.venv/lib/python3.10/site-packages (from httpx<0.24,>=0.15->argilla==1.17) (1.3.0)\n",
      "Requirement already satisfied: httpcore<0.17.0,>=0.15.0 in ./.venv/lib/python3.10/site-packages (from httpx<0.24,>=0.15->argilla==1.17) (0.16.3)\n",
      "Requirement already satisfied: rfc3986[idna2008]<2,>=1.3 in ./.venv/lib/python3.10/site-packages (from httpx<0.24,>=0.15->argilla==1.17) (1.5.0)\n",
      "Requirement already satisfied: certifi in ./.venv/lib/python3.10/site-packages (from httpx<0.24,>=0.15->argilla==1.17) (2023.7.22)\n",
      "Requirement already satisfied: pytz>=2020.1 in ./.venv/lib/python3.10/site-packages (from pandas<2.0.0,>=1.0.0->argilla==1.17) (2023.3.post1)\n",
      "Requirement already satisfied: python-dateutil>=2.8.1 in ./.venv/lib/python3.10/site-packages (from pandas<2.0.0,>=1.0.0->argilla==1.17) (2.8.2)\n",
      "Requirement already satisfied: typing-extensions>=4.2.0 in ./.venv/lib/python3.10/site-packages (from pydantic<2.0,>=1.10.7->argilla==1.17) (4.8.0)\n",
      "Requirement already satisfied: commonmark<0.10.0,>=0.9.0 in ./.venv/lib/python3.10/site-packages (from rich!=13.1.0->argilla==1.17) (0.9.1)\n",
      "Requirement already satisfied: pygments<3.0.0,>=2.6.0 in ./.venv/lib/python3.10/site-packages (from rich!=13.1.0->argilla==1.17) (2.16.1)\n",
      "Requirement already satisfied: click<9.0.0,>=7.1.1 in ./.venv/lib/python3.10/site-packages (from typer<0.8.0,>=0.6.0->argilla==1.17) (8.1.7)\n",
      "Requirement already satisfied: h11<0.15,>=0.13 in ./.venv/lib/python3.10/site-packages (from httpcore<0.17.0,>=0.15.0->httpx<0.24,>=0.15->argilla==1.17) (0.14.0)\n",
      "Requirement already satisfied: anyio<5.0,>=3.0 in ./.venv/lib/python3.10/site-packages (from httpcore<0.17.0,>=0.15.0->httpx<0.24,>=0.15->argilla==1.17) (4.0.0)\n",
      "Requirement already satisfied: six>=1.5 in ./.venv/lib/python3.10/site-packages (from python-dateutil>=2.8.1->pandas<2.0.0,>=1.0.0->argilla==1.17) (1.16.0)\n",
      "Requirement already satisfied: idna in ./.venv/lib/python3.10/site-packages (from rfc3986[idna2008]<2,>=1.3->httpx<0.24,>=0.15->argilla==1.17) (3.4)\n",
      "Requirement already satisfied: exceptiongroup>=1.0.2 in ./.venv/lib/python3.10/site-packages (from anyio<5.0,>=3.0->httpcore<0.17.0,>=0.15.0->httpx<0.24,>=0.15->argilla==1.17) (1.1.3)\n",
      "\n",
      "\u001b[1m[\u001b[0m\u001b[34;49mnotice\u001b[0m\u001b[1;39;49m]\u001b[0m\u001b[39;49m A new release of pip available: \u001b[0m\u001b[31;49m22.2.1\u001b[0m\u001b[39;49m -> \u001b[0m\u001b[32;49m23.3\u001b[0m\n",
      "\u001b[1m[\u001b[0m\u001b[34;49mnotice\u001b[0m\u001b[1;39;49m]\u001b[0m\u001b[39;49m To update, run: \u001b[0m\u001b[32;49mpip install --upgrade pip\u001b[0m\n",
      "Looking in indexes: https://pypi.org/simple, https://dmrepository.datamaran.com:8443/repository/dmPYTHON/simple\n",
      "Requirement already satisfied: deepsearch-toolkit in ./.venv/lib/python3.10/site-packages (0.29.1)\n",
      "Requirement already satisfied: tabulate<0.9.0,>=0.8.9 in ./.venv/lib/python3.10/site-packages (from deepsearch-toolkit) (0.8.10)\n",
      "Requirement already satisfied: urllib3<2.0.0,>=1.26.8 in ./.venv/lib/python3.10/site-packages (from deepsearch-toolkit) (1.26.18)\n",
      "Requirement already satisfied: certifi<2024.0.0,>=2023.07.22 in ./.venv/lib/python3.10/site-packages (from deepsearch-toolkit) (2023.7.22)\n",
      "Requirement already satisfied: tqdm<5.0.0,>=4.64.0 in ./.venv/lib/python3.10/site-packages (from deepsearch-toolkit) (4.66.1)\n",
      "Requirement already satisfied: pluggy<2.0.0,>=1.0.0 in ./.venv/lib/python3.10/site-packages (from deepsearch-toolkit) (1.3.0)\n",
      "Requirement already satisfied: python-dateutil<3.0.0,>=2.8.2 in ./.venv/lib/python3.10/site-packages (from deepsearch-toolkit) (2.8.2)\n",
      "Requirement already satisfied: requests<3.0.0,>=2.27.1 in ./.venv/lib/python3.10/site-packages (from deepsearch-toolkit) (2.31.0)\n",
      "Collecting typer[all]<0.10.0,>=0.9.0\n",
      "  Using cached https://dmrepository.datamaran.com:8443/repository/dmPYTHON/packages/typer/0.9.0/typer-0.9.0-py3-none-any.whl (45 kB)\n",
      "Requirement already satisfied: platformdirs<4.0.0,>=3.5.1 in ./.venv/lib/python3.10/site-packages (from deepsearch-toolkit) (3.11.0)\n",
      "Requirement already satisfied: pydantic[dotenv]<2.0.0,>=1.10.8 in ./.venv/lib/python3.10/site-packages (from deepsearch-toolkit) (1.10.13)\n",
      "Requirement already satisfied: six<2.0.0,>=1.16.0 in ./.venv/lib/python3.10/site-packages (from deepsearch-toolkit) (1.16.0)\n",
      "Requirement already satisfied: typing-extensions>=4.2.0 in ./.venv/lib/python3.10/site-packages (from pydantic[dotenv]<2.0.0,>=1.10.8->deepsearch-toolkit) (4.8.0)\n",
      "Requirement already satisfied: python-dotenv>=0.10.4 in ./.venv/lib/python3.10/site-packages (from pydantic[dotenv]<2.0.0,>=1.10.8->deepsearch-toolkit) (1.0.0)\n",
      "Requirement already satisfied: idna<4,>=2.5 in ./.venv/lib/python3.10/site-packages (from requests<3.0.0,>=2.27.1->deepsearch-toolkit) (3.4)\n",
      "Requirement already satisfied: charset-normalizer<4,>=2 in ./.venv/lib/python3.10/site-packages (from requests<3.0.0,>=2.27.1->deepsearch-toolkit) (3.3.0)\n",
      "Requirement already satisfied: click<9.0.0,>=7.1.1 in ./.venv/lib/python3.10/site-packages (from typer[all]<0.10.0,>=0.9.0->deepsearch-toolkit) (8.1.7)\n",
      "Requirement already satisfied: rich<14.0.0,>=10.11.0 in ./.venv/lib/python3.10/site-packages (from typer[all]<0.10.0,>=0.9.0->deepsearch-toolkit) (13.0.1)\n",
      "Requirement already satisfied: shellingham<2.0.0,>=1.3.0 in ./.venv/lib/python3.10/site-packages (from typer[all]<0.10.0,>=0.9.0->deepsearch-toolkit) (1.5.3)\n",
      "Requirement already satisfied: colorama<0.5.0,>=0.4.3 in ./.venv/lib/python3.10/site-packages (from typer[all]<0.10.0,>=0.9.0->deepsearch-toolkit) (0.4.6)\n",
      "Requirement already satisfied: pygments<3.0.0,>=2.6.0 in ./.venv/lib/python3.10/site-packages (from rich<14.0.0,>=10.11.0->typer[all]<0.10.0,>=0.9.0->deepsearch-toolkit) (2.16.1)\n",
      "Requirement already satisfied: commonmark<0.10.0,>=0.9.0 in ./.venv/lib/python3.10/site-packages (from rich<14.0.0,>=10.11.0->typer[all]<0.10.0,>=0.9.0->deepsearch-toolkit) (0.9.1)\n",
      "Installing collected packages: typer\n",
      "  Attempting uninstall: typer\n",
      "    Found existing installation: typer 0.7.0\n",
      "    Uninstalling typer-0.7.0:\n",
      "      Successfully uninstalled typer-0.7.0\n",
      "\u001b[31mERROR: pip's dependency resolver does not currently take into account all the packages that are installed. This behaviour is the source of the following dependency conflicts.\n",
      "argilla 1.17.0 requires typer<0.8.0,>=0.6.0, but you have typer 0.9.0 which is incompatible.\u001b[0m\u001b[31m\n",
      "\u001b[0mSuccessfully installed typer-0.9.0\n",
      "\n",
      "\u001b[1m[\u001b[0m\u001b[34;49mnotice\u001b[0m\u001b[1;39;49m]\u001b[0m\u001b[39;49m A new release of pip available: \u001b[0m\u001b[31;49m22.2.1\u001b[0m\u001b[39;49m -> \u001b[0m\u001b[32;49m23.3\u001b[0m\n",
      "\u001b[1m[\u001b[0m\u001b[34;49mnotice\u001b[0m\u001b[1;39;49m]\u001b[0m\u001b[39;49m To update, run: \u001b[0m\u001b[32;49mpip install --upgrade pip\u001b[0m\n"
     ]
    }
   ],
   "source": [
    "!pip install argilla==1.17 \n",
    "!pip install deepsearch-toolkit"
   ]
  },
  {
   "cell_type": "markdown",
   "metadata": {},
   "source": [
    "### Signup to Deep Search\n",
    "\n",
    "\n",
    "Go to https://deepsearch-experience.res.ibm.com/ and sign up for an account using the Google OAuth integration. Afterwards, you can use the following command to install the library.\n",
    "\n",
    "![authenticate](img/making-most-of-markdown/deepsearch.png)\n",
    "\n",
    "\n",
    "```bash\n",
    "deepsearch profile config --profile-name \"ds-experience\" --host \"https://deepsearch-experience.res.ibm.com/\" --verify-ssl --username \"<your-email>\"\n",
    "```\n",
    "\n",
    "And add `your-api-key` to the prompted terminal."
   ]
  },
  {
   "cell_type": "markdown",
   "metadata": {},
   "source": [
    "## Get Coding\n",
    "\n",
    "### Multi-Modality\n",
    "\n",
    "A DataURL is a way to encode binary data into a string, which can then be used to embed the data into a webpage. This is a very useful tool, as it allows us to embed images, videos, and audio files directly into html, without having to worry about hosting them externally. This is done by prepending the data with a header, which specifies the type of data being encoded, and the encoding used. We will define three different functions, one for each modality, which will take a file path as input, and return a DataURL as output."
   ]
  },
  {
   "cell_type": "code",
   "execution_count": 21,
   "metadata": {},
   "outputs": [],
   "source": [
    "import base64\n",
    "from pathlib import Path\n",
    "\n",
    "def get_file_type(path):\n",
    "    return Path(path).suffix[1:]\n",
    "\n",
    "def video_to_dataurl(path, file_type: str = None):\n",
    "    # Open the video file and read its contents\n",
    "    with open(path, 'rb') as f:\n",
    "        video_data = f.read()\n",
    "\n",
    "    # Encode the video data as base64\n",
    "    video_base64 = base64.b64encode(video_data).decode('utf-8')\n",
    "\n",
    "    # Get the file type (e.g. mp4)\n",
    "    file_type = file_type or get_file_type(path)\n",
    "    \n",
    "    # Prepend the Data URL prefix to the base64-encoded data\n",
    "    data_url = f'data:video/{file_type};base64,' + video_base64\n",
    "\n",
    "    # Create HTML\n",
    "    html = f\"<video controls><source src='{data_url}' type='video/{file_type}'></video>\"\n",
    "    html_href = f\"<a href='{data_url}'>Click</a>\"\n",
    "    html_iframe = f\"<iframe src='{data_url}'></iframe>\"\n",
    "    html_embed = f\"<embed src='{data_url}'></embed>\"\n",
    "    return html_embed\n",
    "    \n",
    "def audio_to_dataurl(path, file_type: str = None):\n",
    "    # Open the audio file and read its contents\n",
    "    with open(path, 'rb') as f:\n",
    "        audio_data = f.read()\n",
    "    \n",
    "    # Encode the audio data as base64\n",
    "    audio_base64 = base64.b64encode(audio_data).decode('utf-8')\n",
    "    \n",
    "    # Get the file type (e.g. mp3)\n",
    "    file_type = file_type or get_file_type(path)\n",
    "    \n",
    "    # Prepend the Data URL prefix to the base64-encoded data\n",
    "    data_url = f'data:audio/{file_type};base64,' + audio_base64\n",
    "    \n",
    "    # Create HTML\n",
    "    html = f\"<audio controls autoplay><source src='{data_url}' type='audio/{file_type}'></audio>\"\n",
    "    return html\n",
    "\n",
    "def image_to_dataurl(path, file_type: str = None):\n",
    "    # open the image file and read its contents\n",
    "    with open(path, 'rb') as f:\n",
    "        image_data = f.read()\n",
    "        \n",
    "    # Encode the image data as base64\n",
    "    image_base64 = base64.b64encode(image_data).decode('utf-8')\n",
    "    \n",
    "    # Get the file type (e.g. png)\n",
    "    file_type = file_type or get_file_type(path)\n",
    "    \n",
    "    # Prepend the Data URL prefix to the base64-encoded data\n",
    "    data_url = f'data:image/{file_type};base64,' + image_base64\n",
    "    \n",
    "    # Create HTML\n",
    "    html = f'<img src=\"{data_url}\">'\n",
    "    return html\n"
   ]
  },
  {
   "cell_type": "code",
   "execution_count": 22,
   "metadata": {},
   "outputs": [],
   "source": [
    "data_url_video = video_to_dataurl(\"img/making-most-of-markdown/snapshot.mp4\")\n",
    "data_url_audio_1 = audio_to_dataurl(\"img/making-most-of-markdown/heath_ledger.mp3\")\n",
    "data_url_audio_2 = audio_to_dataurl(\"img/making-most-of-markdown/heath_ledger_2.mp3\")\n",
    "data_url_image = image_to_dataurl(\"img/making-most-of-markdown/deepsearch.png\")"
   ]
  },
  {
   "cell_type": "code",
   "execution_count": 24,
   "metadata": {},
   "outputs": [
    {
     "name": "stderr",
     "output_type": "stream",
     "text": [
      "Pushing records to Argilla...: 100%|██████████| 1/1 [00:00<00:00,  1.27it/s]\n"
     ]
    }
   ],
   "source": [
    "import argilla as rg\n",
    "\n",
    "records = [\n",
    "    rg.FeedbackRecord(fields={\"content\": data_url_audio_1}),\n",
    "    rg.FeedbackRecord(fields={\"content\": data_url_audio_2}),\n",
    "    rg.FeedbackRecord(fields={\"content\": data_url_image}),\n",
    "    rg.FeedbackRecord(fields={\"content\": data_url_video})\n",
    "]\n",
    "try:\n",
    "    ds = rg.FeedbackDataset(\n",
    "        fields=[rg.TextField(name=\"content\", use_markdown=True)],\n",
    "        questions=[rg.TextQuestion(name=\"describe\")],\n",
    "    )\n",
    "    ds.add_records(records)\n",
    "    ds = ds.push_to_argilla(\"multi-modal\")\n",
    "    \n",
    "except:\n",
    "    ds = rg.FeedbackDataset.from_argilla(\"multi-modal\")\n",
    "    ds.add_records(records)\n"
   ]
  }
 ],
 "metadata": {
  "kernelspec": {
   "display_name": ".venv",
   "language": "python",
   "name": "python3"
  },
  "language_info": {
   "codemirror_mode": {
    "name": "ipython",
    "version": 3
   },
   "file_extension": ".py",
   "mimetype": "text/x-python",
   "name": "python",
   "nbconvert_exporter": "python",
   "pygments_lexer": "ipython3",
   "version": "3.10.6"
  }
 },
 "nbformat": 4,
 "nbformat_minor": 2
}
